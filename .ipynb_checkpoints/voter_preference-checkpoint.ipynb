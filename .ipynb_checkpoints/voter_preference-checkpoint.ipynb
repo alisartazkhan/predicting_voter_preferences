{
 "cells": [
  {
   "cell_type": "code",
   "execution_count": 3,
   "id": "4752f900",
   "metadata": {
    "scrolled": true
   },
   "outputs": [],
   "source": [
    "import pandas as pd\n"
   ]
  },
  {
   "cell_type": "code",
   "execution_count": 3,
   "id": "71faf4f3",
   "metadata": {},
   "outputs": [
    {
     "name": "stdout",
     "output_type": "stream",
     "text": [
      "        V101  commonweight_vv  commonweight_vv_post  commonweight_vv_lgbt  \\\n",
      "0  222168628         1.344214              1.042267              1.195346   \n",
      "1  273691199         1.182352              1.280103              1.280565   \n",
      "2  284214415         0.217396                   NaN              0.248930   \n",
      "3  287557695         0.532320                   NaN              0.928750   \n",
      "4  290387662         1.261106              1.092519              1.161894   \n",
      "\n",
      "   commonweight  commonweight_post tookpost lookupzip     inputstate cdid113  \\\n",
      "0      0.944967           0.730450      Yes     03442  New Hampshire       2   \n",
      "1      0.767256           0.892838      Yes     70118      Louisiana       2   \n",
      "2      0.090604           0.000000       No     63851       Missouri       8   \n",
      "3      0.142583           0.000000       No     36703        Alabama       7   \n",
      "4      1.206498           1.019007      Yes     80526       Colorado       2   \n",
      "\n",
      "   ... CL_E2016PPEP CL_E2016PPVM CL_E2016PEP CL_E2016PVM  \\\n",
      "0  ...                                                     \n",
      "1  ...                                                     \n",
      "2  ...                                                     \n",
      "3  ...                                                     \n",
      "4  ...                                                     \n",
      "\n",
      "            starttime_pre             endtime_pre          starttime_post  \\\n",
      "0 2016-10-20 05:05:44.887 2016-10-20 05:36:38.850 2016-11-16 06:24:32.895   \n",
      "1 2016-10-23 14:54:58.548 2016-10-24 14:20:41.711 2016-11-30 14:02:55.143   \n",
      "2 2016-10-29 06:54:12.797 2016-10-29 07:24:44.759                     NaT   \n",
      "3 2016-10-27 11:06:21.322 2016-10-27 11:26:00.051                     NaT   \n",
      "4 2016-10-10 10:56:31.061 2016-10-10 11:14:12.215 2016-11-18 09:09:28.044   \n",
      "\n",
      "             endtime_post    dma                     dmaname  \n",
      "0 2016-11-16 06:40:18.810    NaN                              \n",
      "1 2016-11-30 14:09:26.931  622.0                 NEW ORLEANS  \n",
      "2                     NaT  632.0  PADUCAH-CAPE GIRARD-HARSBG  \n",
      "3                     NaT  698.0            MONTGOMERY-SELMA  \n",
      "4 2016-11-18 09:21:05.905  751.0                      DENVER  \n",
      "\n",
      "[5 rows x 563 columns]\n"
     ]
    }
   ],
   "source": [
    "data = pd.read_stata(\"../CCES16_Common_OUTPUT_Feb2018_VV.dta\")\n",
    "# Display the first 5 rows\n",
    "print(data.head())"
   ]
  },
  {
   "cell_type": "code",
   "execution_count": 6,
   "id": "c3537155",
   "metadata": {},
   "outputs": [
    {
     "name": "stderr",
     "output_type": "stream",
     "text": [
      "/Users/alisartazkhan/anaconda3/lib/python3.11/site-packages/openpyxl/worksheet/header_footer.py:48: UserWarning: Cannot parse header or footer so it will be ignored\n",
      "  warn(\"\"\"Cannot parse header or footer so it will be ignored\"\"\")\n",
      "/Users/alisartazkhan/anaconda3/lib/python3.11/site-packages/openpyxl/worksheet/header_footer.py:48: UserWarning: Cannot parse header or footer so it will be ignored\n",
      "  warn(\"\"\"Cannot parse header or footer so it will be ignored\"\"\")\n"
     ]
    },
    {
     "name": "stdout",
     "output_type": "stream",
     "text": [
      "Sheet Name: Publication Information\n",
      "Sheet Name: Table 1. 2016 Pres Popular Vote\n",
      "Sheet Name: Table 2. Electoral &  Pop Vote\n",
      "Sheet Name: Table 3. GEVotes for Pres, H, S\n",
      "Sheet Name: Table 4. GE Votes Cast by Party\n",
      "Sheet Name: Table 5. P&G VotesCastforCong\n",
      "Sheet Name: Table 6. Senate by Party\n",
      "Sheet Name: Table 7. House by Party\n",
      "Sheet Name: 2016 Pres General Results\n",
      "Sheet Name: 2016 Pres Primary Results\n",
      "Sheet Name: 2016 Pres Primary Party Summary\n",
      "Sheet Name: 2016 US Senate Results by State\n",
      "Sheet Name: 2016 US House Results by State\n",
      "Sheet Name: 2016 Party Labels\n",
      "Sheet Name: 2016 Primary Dates\n",
      "Sheet Name: Appendix A\n",
      "Sheet Name: Appendix B\n",
      "Sheet Name: Appendix C\n"
     ]
    }
   ],
   "source": [
    "# Data Loading & Preprocessing\n",
    "# - Load official 2016 election results data (state vote totals by candidate)\n",
    "# - Load CCES survey data (multiple files for pre/post election waves)\n",
    "# - Merge CCES data, filter for relevant respondents\n",
    "# - Extract features/targets for modeling (survey questions, vote choices etc.)\n",
    "# - Split data into train/test sets\n",
    "\n",
    "\n",
    "# # Load official 2016 election results data\n",
    "# election_results = pd.read_csv('election_results.csv')\n",
    "xls_data = pd.read_excel('../federalelections2016.xlsx', sheet_name=\"2016 Pres General Results\")\n",
    "print(xls_data)\n",
    "# Access individual sheets using keys (sheet names)\n",
    "# for sheet_name, sheet_data in xls_data.items():\n",
    "#     print(f\"Sheet Name: {sheet_name}\")\n",
    "#     print(sheet_data.head())  # Display the first few rows of each sheet\n",
    "#     print(\"\\n\")\n",
    "\n",
    "\n",
    "# # Load CCES survey data (assuming multiple files for pre/post election waves)\n",
    "# cces_wave1 = pd.read_csv('cces_wave1.csv')\n",
    "# cces_wave2 = pd.read_csv('cces_wave2.csv')\n",
    "cces_wave0 = pd.read_stata(\"../CCES16_Common_OUTPUT_Feb2018_VV.dta\")\n",
    "# # ... load other waves as needed\n",
    "\n",
    "# # Merge CCES data\n",
    "# cces_data = pd.concat([cces_wave1, cces_wave2], axis=0, ignore_index=True)\n",
    "\n",
    "# # Filter for relevant respondents (adjust the condition based on your requirements)\n",
    "# relevant_respondents = cces_data[cces_data['relevant_column'] == 'desired_value']\n",
    "\n",
    "# # Extract features/targets for modeling\n",
    "# # For example, select survey questions and vote choices as features/targets\n",
    "# features = relevant_respondents[['question1', 'question2', '...']]\n",
    "# targets = relevant_respondents['vote_choice_column']\n",
    "\n",
    "# # Split data into train/test sets\n",
    "# from sklearn.model_selection import train_test_split\n",
    "\n",
    "# # Adjust the test_size and random_state as needed\n",
    "# X_train, X_test, y_train, y_test = train_test_split(features, targets, test_size=0.2, random_state=42)\n",
    "\n",
    "# # Now you can use X_train, X_test, y_train, y_test for your modeling purposes\n"
   ]
  },
  {
   "cell_type": "code",
   "execution_count": null,
   "id": "a5f3db79",
   "metadata": {},
   "outputs": [],
   "source": []
  }
 ],
 "metadata": {
  "kernelspec": {
   "display_name": "Python 3 (ipykernel)",
   "language": "python",
   "name": "python3"
  },
  "language_info": {
   "codemirror_mode": {
    "name": "ipython",
    "version": 3
   },
   "file_extension": ".py",
   "mimetype": "text/x-python",
   "name": "python",
   "nbconvert_exporter": "python",
   "pygments_lexer": "ipython3",
   "version": "3.11.3"
  }
 },
 "nbformat": 4,
 "nbformat_minor": 5
}
