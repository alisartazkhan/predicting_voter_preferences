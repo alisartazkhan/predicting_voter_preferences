{
 "cells": [
  {
   "cell_type": "code",
   "execution_count": 28,
   "id": "a9eb55a3",
   "metadata": {
    "scrolled": true
   },
   "outputs": [
    {
     "name": "stdout",
     "output_type": "stream",
     "text": [
      "Requirement already satisfied: tensorflow in /Users/alisartazkhan/anaconda3/lib/python3.11/site-packages (2.16.1)\n",
      "Requirement already satisfied: absl-py>=1.0.0 in /Users/alisartazkhan/anaconda3/lib/python3.11/site-packages (from tensorflow) (2.1.0)\n",
      "Requirement already satisfied: astunparse>=1.6.0 in /Users/alisartazkhan/anaconda3/lib/python3.11/site-packages (from tensorflow) (1.6.3)\n",
      "Requirement already satisfied: flatbuffers>=23.5.26 in /Users/alisartazkhan/anaconda3/lib/python3.11/site-packages (from tensorflow) (24.3.25)\n",
      "Requirement already satisfied: gast!=0.5.0,!=0.5.1,!=0.5.2,>=0.2.1 in /Users/alisartazkhan/anaconda3/lib/python3.11/site-packages (from tensorflow) (0.5.4)\n",
      "Requirement already satisfied: google-pasta>=0.1.1 in /Users/alisartazkhan/anaconda3/lib/python3.11/site-packages (from tensorflow) (0.2.0)\n",
      "Requirement already satisfied: h5py>=3.10.0 in /Users/alisartazkhan/anaconda3/lib/python3.11/site-packages (from tensorflow) (3.10.0)\n",
      "Requirement already satisfied: libclang>=13.0.0 in /Users/alisartazkhan/anaconda3/lib/python3.11/site-packages (from tensorflow) (18.1.1)\n",
      "Requirement already satisfied: ml-dtypes~=0.3.1 in /Users/alisartazkhan/anaconda3/lib/python3.11/site-packages (from tensorflow) (0.3.2)\n",
      "Requirement already satisfied: opt-einsum>=2.3.2 in /Users/alisartazkhan/anaconda3/lib/python3.11/site-packages (from tensorflow) (3.3.0)\n",
      "Requirement already satisfied: packaging in /Users/alisartazkhan/anaconda3/lib/python3.11/site-packages (from tensorflow) (23.0)\n",
      "Requirement already satisfied: protobuf!=4.21.0,!=4.21.1,!=4.21.2,!=4.21.3,!=4.21.4,!=4.21.5,<5.0.0dev,>=3.20.3 in /Users/alisartazkhan/anaconda3/lib/python3.11/site-packages (from tensorflow) (4.25.3)\n",
      "Requirement already satisfied: requests<3,>=2.21.0 in /Users/alisartazkhan/anaconda3/lib/python3.11/site-packages (from tensorflow) (2.29.0)\n",
      "Requirement already satisfied: setuptools in /Users/alisartazkhan/anaconda3/lib/python3.11/site-packages (from tensorflow) (67.8.0)\n",
      "Requirement already satisfied: six>=1.12.0 in /Users/alisartazkhan/anaconda3/lib/python3.11/site-packages (from tensorflow) (1.16.0)\n",
      "Requirement already satisfied: termcolor>=1.1.0 in /Users/alisartazkhan/anaconda3/lib/python3.11/site-packages (from tensorflow) (2.4.0)\n",
      "Requirement already satisfied: typing-extensions>=3.6.6 in /Users/alisartazkhan/anaconda3/lib/python3.11/site-packages (from tensorflow) (4.6.3)\n",
      "Requirement already satisfied: wrapt>=1.11.0 in /Users/alisartazkhan/anaconda3/lib/python3.11/site-packages (from tensorflow) (1.14.1)\n",
      "Requirement already satisfied: grpcio<2.0,>=1.24.3 in /Users/alisartazkhan/anaconda3/lib/python3.11/site-packages (from tensorflow) (1.62.1)\n",
      "Requirement already satisfied: tensorboard<2.17,>=2.16 in /Users/alisartazkhan/anaconda3/lib/python3.11/site-packages (from tensorflow) (2.16.2)\n",
      "Requirement already satisfied: keras>=3.0.0 in /Users/alisartazkhan/anaconda3/lib/python3.11/site-packages (from tensorflow) (3.1.1)\n",
      "Requirement already satisfied: tensorflow-io-gcs-filesystem>=0.23.1 in /Users/alisartazkhan/anaconda3/lib/python3.11/site-packages (from tensorflow) (0.36.0)\n",
      "Requirement already satisfied: numpy<2.0.0,>=1.23.5 in /Users/alisartazkhan/anaconda3/lib/python3.11/site-packages (from tensorflow) (1.24.3)\n",
      "Requirement already satisfied: wheel<1.0,>=0.23.0 in /Users/alisartazkhan/anaconda3/lib/python3.11/site-packages (from astunparse>=1.6.0->tensorflow) (0.38.4)\n",
      "Requirement already satisfied: rich in /Users/alisartazkhan/anaconda3/lib/python3.11/site-packages (from keras>=3.0.0->tensorflow) (13.7.1)\n",
      "Requirement already satisfied: namex in /Users/alisartazkhan/anaconda3/lib/python3.11/site-packages (from keras>=3.0.0->tensorflow) (0.0.7)\n",
      "Requirement already satisfied: optree in /Users/alisartazkhan/anaconda3/lib/python3.11/site-packages (from keras>=3.0.0->tensorflow) (0.11.0)\n",
      "Requirement already satisfied: charset-normalizer<4,>=2 in /Users/alisartazkhan/anaconda3/lib/python3.11/site-packages (from requests<3,>=2.21.0->tensorflow) (2.0.4)\n",
      "Requirement already satisfied: idna<4,>=2.5 in /Users/alisartazkhan/anaconda3/lib/python3.11/site-packages (from requests<3,>=2.21.0->tensorflow) (3.4)\n",
      "Requirement already satisfied: urllib3<1.27,>=1.21.1 in /Users/alisartazkhan/anaconda3/lib/python3.11/site-packages (from requests<3,>=2.21.0->tensorflow) (1.26.16)\n",
      "Requirement already satisfied: certifi>=2017.4.17 in /Users/alisartazkhan/anaconda3/lib/python3.11/site-packages (from requests<3,>=2.21.0->tensorflow) (2023.5.7)\n",
      "Requirement already satisfied: markdown>=2.6.8 in /Users/alisartazkhan/anaconda3/lib/python3.11/site-packages (from tensorboard<2.17,>=2.16->tensorflow) (3.4.1)\n",
      "Requirement already satisfied: tensorboard-data-server<0.8.0,>=0.7.0 in /Users/alisartazkhan/anaconda3/lib/python3.11/site-packages (from tensorboard<2.17,>=2.16->tensorflow) (0.7.2)\n",
      "Requirement already satisfied: werkzeug>=1.0.1 in /Users/alisartazkhan/anaconda3/lib/python3.11/site-packages (from tensorboard<2.17,>=2.16->tensorflow) (2.2.3)\n",
      "Requirement already satisfied: MarkupSafe>=2.1.1 in /Users/alisartazkhan/anaconda3/lib/python3.11/site-packages (from werkzeug>=1.0.1->tensorboard<2.17,>=2.16->tensorflow) (2.1.1)\n",
      "Requirement already satisfied: markdown-it-py>=2.2.0 in /Users/alisartazkhan/anaconda3/lib/python3.11/site-packages (from rich->keras>=3.0.0->tensorflow) (2.2.0)\n",
      "Requirement already satisfied: pygments<3.0.0,>=2.13.0 in /Users/alisartazkhan/anaconda3/lib/python3.11/site-packages (from rich->keras>=3.0.0->tensorflow) (2.15.1)\n",
      "Requirement already satisfied: mdurl~=0.1 in /Users/alisartazkhan/anaconda3/lib/python3.11/site-packages (from markdown-it-py>=2.2.0->rich->keras>=3.0.0->tensorflow) (0.1.0)\n"
     ]
    }
   ],
   "source": [
    "!pip install tensorflow"
   ]
  },
  {
   "cell_type": "code",
   "execution_count": 29,
   "id": "90449f26",
   "metadata": {},
   "outputs": [
    {
     "name": "stdout",
     "output_type": "stream",
     "text": [
      "Requirement already satisfied: pandas in /Users/alisartazkhan/anaconda3/lib/python3.11/site-packages (1.5.3)\r\n",
      "Requirement already satisfied: openpyxl in /Users/alisartazkhan/anaconda3/lib/python3.11/site-packages (3.0.10)\r\n",
      "Requirement already satisfied: python-dateutil>=2.8.1 in /Users/alisartazkhan/anaconda3/lib/python3.11/site-packages (from pandas) (2.8.2)\r\n",
      "Requirement already satisfied: pytz>=2020.1 in /Users/alisartazkhan/anaconda3/lib/python3.11/site-packages (from pandas) (2022.7)\r\n",
      "Requirement already satisfied: numpy>=1.21.0 in /Users/alisartazkhan/anaconda3/lib/python3.11/site-packages (from pandas) (1.24.3)\r\n",
      "Requirement already satisfied: et_xmlfile in /Users/alisartazkhan/anaconda3/lib/python3.11/site-packages (from openpyxl) (1.1.0)\r\n",
      "Requirement already satisfied: six>=1.5 in /Users/alisartazkhan/anaconda3/lib/python3.11/site-packages (from python-dateutil>=2.8.1->pandas) (1.16.0)\r\n"
     ]
    }
   ],
   "source": [
    "!pip install pandas openpyxl"
   ]
  },
  {
   "cell_type": "code",
   "execution_count": 30,
   "id": "4752f900",
   "metadata": {
    "scrolled": false
   },
   "outputs": [],
   "source": [
    "import pandas as pd\n",
    "from sklearn.ensemble import RandomForestClassifier\n",
    "from sklearn.model_selection import train_test_split\n",
    "from sklearn.metrics import classification_report, confusion_matrix\n",
    "from sklearn.preprocessing import StandardScaler\n",
    "import tensorflow as tf\n",
    "from tensorflow import keras"
   ]
  },
  {
   "cell_type": "code",
   "execution_count": 31,
   "id": "149307da",
   "metadata": {},
   "outputs": [],
   "source": [
    "from typing import Hashable, NamedTuple, Callable, Tuple, Union\n",
    "\n",
    "\n",
    "class Ballot(NamedTuple):\n",
    "    ranking: tuple[Hashable, ...]\n",
    "    tally: int\n",
    "\n",
    "Result = Tuple[Hashable | None, bool]"
   ]
  },
  {
   "cell_type": "code",
   "execution_count": 32,
   "id": "71faf4f3",
   "metadata": {
    "scrolled": false
   },
   "outputs": [
    {
     "name": "stderr",
     "output_type": "stream",
     "text": [
      "/Users/alisartazkhan/anaconda3/lib/python3.11/site-packages/openpyxl/worksheet/header_footer.py:48: UserWarning: Cannot parse header or footer so it will be ignored\n",
      "  warn(\"\"\"Cannot parse header or footer so it will be ignored\"\"\")\n",
      "/Users/alisartazkhan/anaconda3/lib/python3.11/site-packages/openpyxl/worksheet/header_footer.py:48: UserWarning: Cannot parse header or footer so it will be ignored\n",
      "  warn(\"\"\"Cannot parse header or footer so it will be ignored\"\"\")\n"
     ]
    }
   ],
   "source": [
    "data = pd.read_stata(\"../CCES16_Common_OUTPUT_Feb2018_VV.dta\")\n",
    "xls_data = pd.read_excel('../federalelections2016.xlsx', sheet_name=None)\n",
    "df = pd.DataFrame(data)\n"
   ]
  },
  {
   "cell_type": "code",
   "execution_count": 33,
   "id": "dbca7dae",
   "metadata": {},
   "outputs": [
    {
     "name": "stdout",
     "output_type": "stream",
     "text": [
      "51356\n",
      "0\n",
      "7            Very High Importance\n",
      "20       Somewhat High Importance\n",
      "22       Somewhat High Importance\n",
      "26       Somewhat High Importance\n",
      "30           Very High Importance\n",
      "                   ...           \n",
      "22597    Somewhat High Importance\n",
      "22599    Somewhat High Importance\n",
      "22678     Somewhat Low Importance\n",
      "22685        Very High Importance\n",
      "22862        No Importance at All\n",
      "Name: CC16_301a, Length: 13143, dtype: category\n",
      "Categories (5, object): ['Very High Importance' < 'Somewhat High Importance' < 'Somewhat Low Importance' < 'Very Low Importance' < 'No Importance at All']\n"
     ]
    }
   ],
   "source": [
    "features = [\n",
    "    \"CC16_301a\",\n",
    "    \"CC16_301b\",\n",
    "    \"CC16_301c\",\n",
    "    \"CC16_301d\",\n",
    "    \"CC16_301e\",\n",
    "    \"CC16_301f\",\n",
    "    \"CC16_301g\",\n",
    "    \"CC16_301h\",\n",
    "    \"CC16_301i\",\n",
    "    \"CC16_301j\",\n",
    "     \"CC16_301k\",\n",
    "     \"CC16_301l\",\n",
    "     \"CC16_301m\",\n",
    "     \"CC16_301n\",\n",
    "     \"CC16_301o\"\n",
    "]\n",
    "print(data[\"CC16_301a\"].isna().sum())\n",
    "data = data.dropna(subset=features)\n",
    "print(data[\"CC16_301a\"].isna().sum())\n",
    "print(data[\"CC16_301a\"])"
   ]
  },
  {
   "cell_type": "code",
   "execution_count": 34,
   "id": "8f6c9fed",
   "metadata": {
    "scrolled": true
   },
   "outputs": [
    {
     "name": "stdout",
     "output_type": "stream",
     "text": [
      "                   CC16_301a                 CC16_301b  \\\n",
      "7       Very High Importance      Very High Importance   \n",
      "20  Somewhat High Importance  Somewhat High Importance   \n",
      "22  Somewhat High Importance   Somewhat Low Importance   \n",
      "26  Somewhat High Importance  Somewhat High Importance   \n",
      "30      Very High Importance      Very High Importance   \n",
      "\n",
      "                   CC16_301c                 CC16_301d  \\\n",
      "7       Very High Importance  Somewhat High Importance   \n",
      "20  Somewhat High Importance  Somewhat High Importance   \n",
      "22  Somewhat High Importance  Somewhat High Importance   \n",
      "26  Somewhat High Importance  Somewhat High Importance   \n",
      "30      Very High Importance      Very High Importance   \n",
      "\n",
      "                   CC16_301e                 CC16_301f  \\\n",
      "7   Somewhat High Importance   Somewhat Low Importance   \n",
      "20  Somewhat High Importance  Somewhat High Importance   \n",
      "22  Somewhat High Importance      Very High Importance   \n",
      "26  Somewhat High Importance       Very Low Importance   \n",
      "30      Very High Importance      Very High Importance   \n",
      "\n",
      "                   CC16_301g                 CC16_301h  \\\n",
      "7   Somewhat High Importance      Very High Importance   \n",
      "20  Somewhat High Importance  Somewhat High Importance   \n",
      "22      Very High Importance      Very High Importance   \n",
      "26  Somewhat High Importance  Somewhat High Importance   \n",
      "30      Very High Importance  Somewhat High Importance   \n",
      "\n",
      "                   CC16_301i                 CC16_301j  \\\n",
      "7       Very High Importance   Somewhat Low Importance   \n",
      "20  Somewhat High Importance  Somewhat High Importance   \n",
      "22      Very High Importance  Somewhat High Importance   \n",
      "26  Somewhat High Importance  Somewhat High Importance   \n",
      "30  Somewhat High Importance      Very High Importance   \n",
      "\n",
      "                   CC16_301k                 CC16_301l  \\\n",
      "7   Somewhat High Importance      No Importance at All   \n",
      "20  Somewhat High Importance  Somewhat High Importance   \n",
      "22  Somewhat High Importance      Very High Importance   \n",
      "26  Somewhat High Importance  Somewhat High Importance   \n",
      "30      Very High Importance  Somewhat High Importance   \n",
      "\n",
      "                   CC16_301m                 CC16_301n  \\\n",
      "7       Very High Importance      No Importance at All   \n",
      "20  Somewhat High Importance  Somewhat High Importance   \n",
      "22      Very High Importance   Somewhat Low Importance   \n",
      "26  Somewhat High Importance  Somewhat High Importance   \n",
      "30      Very High Importance      Very High Importance   \n",
      "\n",
      "                   CC16_301o  \n",
      "7       Very High Importance  \n",
      "20  Somewhat High Importance  \n",
      "22  Somewhat High Importance  \n",
      "26      Very High Importance  \n",
      "30  Somewhat High Importance  \n",
      "   CC16_301a CC16_301b CC16_301c CC16_301d CC16_301e CC16_301f CC16_301g  \\\n",
      "7          5         5         5         4         4         3         4   \n",
      "20         4         4         4         4         4         4         4   \n",
      "22         4         3         4         4         4         5         5   \n",
      "26         4         4         4         4         4         2         4   \n",
      "30         5         5         5         5         5         5         5   \n",
      "\n",
      "   CC16_301h CC16_301i CC16_301j CC16_301k CC16_301l CC16_301m CC16_301n  \\\n",
      "7          5         5         3         4         1         5         1   \n",
      "20         4         4         4         4         4         4         4   \n",
      "22         5         5         4         4         5         5         3   \n",
      "26         4         4         4         4         4         4         4   \n",
      "30         4         4         5         5         4         5         5   \n",
      "\n",
      "   CC16_301o  \n",
      "7          5  \n",
      "20         4  \n",
      "22         4  \n",
      "26         5  \n",
      "30         4  \n"
     ]
    }
   ],
   "source": [
    "import pandas as pd\n",
    "\n",
    "# Assuming your data is loaded as 'data'\n",
    "# data = pd.read_stata(\"../CCES16_Common_OUTPUT_Feb2018_VV.dta\")\n",
    "\n",
    "# Mapping dictionary\n",
    "importance_mapping = {\n",
    "    'Very High Importance': 5,\n",
    "    'Somewhat High Importance': 4,\n",
    "    'Somewhat Low Importance': 3,\n",
    "    'Very Low Importance': 2,\n",
    "    'No Importance at All': 1\n",
    "    \n",
    "}\n",
    "\n",
    "print(data[features].head())\n",
    "\n",
    "# Apply the mapping to each feature column\n",
    "for feature in features:\n",
    "    data[feature] = data[feature].map(importance_mapping)\n",
    "\n",
    "# Check the conversion result for one of the columns\n",
    "print(data[features].head())\n"
   ]
  },
  {
   "cell_type": "code",
   "execution_count": 35,
   "id": "c3537155",
   "metadata": {
    "scrolled": true
   },
   "outputs": [],
   "source": [
    "# Filter CCES data for Trump/Clinton voters\n",
    "# major_voters = data[data['CC16_410_a'].isin([1, 2])]  # 1=Trump, 2=Clinton\n",
    "trump_voters = data[data['CC16_410a'].isin([\"Donald Trump (Republican)\"])]\n",
    "clinton_voters = data[data['CC16_410a'].isin([\"Hillary Clinton (Democrat)\"])]\n",
    "third_party_voters = data[data['CC16_410a'].isin([\"Gary Johnson (Libertarian)\", \"Jill Stein (Green)\", \"Evan McMullin (Independent)\"])]\n",
    "gary_voters = data[data['CC16_410a'].isin([\"Gary Johnson (Libertarian)\"])]\n",
    "jill_voters = data[data['CC16_410a'].isin([\"Jill Stein (Green)\"])]\n",
    "evan_voters = data[data['CC16_410a'].isin([\"Evan McMullin (Independent)\"])]"
   ]
  },
  {
   "cell_type": "code",
   "execution_count": 36,
   "id": "b55528aa",
   "metadata": {},
   "outputs": [],
   "source": [
    "all_voters = pd.concat([trump_voters, clinton_voters])\n",
    "all_voters['label'] = all_voters['CC16_410a'].apply(lambda x: 0 if x == \"Donald Trump (Republican)\" else 1)"
   ]
  },
  {
   "cell_type": "code",
   "execution_count": 37,
   "id": "9a3f2d90",
   "metadata": {},
   "outputs": [],
   "source": [
    "# Feature and target separation\n",
    "X = all_voters[features]\n",
    "y = all_voters['label']"
   ]
  },
  {
   "cell_type": "code",
   "execution_count": 38,
   "id": "1d5197fb",
   "metadata": {},
   "outputs": [],
   "source": [
    "import matplotlib.pyplot as plt\n",
    "import pandas as pd\n",
    "import matplotlib.pyplot as plt\n",
    "\n",
    "def vis(predictions, name):\n",
    "    # Count the number of predicted leanings and normalize to get percentages\n",
    "    predicted_percentages = pd.Series(predictions).value_counts(normalize=True) * 100\n",
    "\n",
    "    # Create a bar chart\n",
    "    predicted_percentages.plot(kind='bar', color=['red', 'blue'])\n",
    "\n",
    "    # Setting the title and labels\n",
    "    plt.title(f'Predicted Leanings of {name} Voters (%)')\n",
    "    plt.xlabel('Predicted Vote')\n",
    "    plt.ylabel('Percentage')\n",
    "    plt.xticks(ticks=[0, 1], labels=['Trump', 'Clinton'], rotation=0)  # 0 for Trump, 1 for Clinton\n",
    "\n",
    "    # Show the plot\n",
    "    plt.show()\n",
    "\n",
    "# Usage example with dummy data\n",
    "# predictions_example = [0, 1, 1, 0, 1, 0, 0, 1, 0, 1]  # Some dummy prediction data\n",
    "# vis(predictions_example, \"Sample Group\")\n"
   ]
  },
  {
   "cell_type": "code",
   "execution_count": 39,
   "id": "7054ca4a",
   "metadata": {},
   "outputs": [],
   "source": [
    "# Data splitting\n",
    "X_train, X_test, y_train, y_test = train_test_split(X, y, test_size=0.3, random_state=42)\n",
    "X_test = third_party_voters[features]"
   ]
  },
  {
   "cell_type": "code",
   "execution_count": 40,
   "id": "f0a290f8",
   "metadata": {},
   "outputs": [
    {
     "data": {
      "text/html": [
       "<style>#sk-container-id-2 {color: black;background-color: white;}#sk-container-id-2 pre{padding: 0;}#sk-container-id-2 div.sk-toggleable {background-color: white;}#sk-container-id-2 label.sk-toggleable__label {cursor: pointer;display: block;width: 100%;margin-bottom: 0;padding: 0.3em;box-sizing: border-box;text-align: center;}#sk-container-id-2 label.sk-toggleable__label-arrow:before {content: \"▸\";float: left;margin-right: 0.25em;color: #696969;}#sk-container-id-2 label.sk-toggleable__label-arrow:hover:before {color: black;}#sk-container-id-2 div.sk-estimator:hover label.sk-toggleable__label-arrow:before {color: black;}#sk-container-id-2 div.sk-toggleable__content {max-height: 0;max-width: 0;overflow: hidden;text-align: left;background-color: #f0f8ff;}#sk-container-id-2 div.sk-toggleable__content pre {margin: 0.2em;color: black;border-radius: 0.25em;background-color: #f0f8ff;}#sk-container-id-2 input.sk-toggleable__control:checked~div.sk-toggleable__content {max-height: 200px;max-width: 100%;overflow: auto;}#sk-container-id-2 input.sk-toggleable__control:checked~label.sk-toggleable__label-arrow:before {content: \"▾\";}#sk-container-id-2 div.sk-estimator input.sk-toggleable__control:checked~label.sk-toggleable__label {background-color: #d4ebff;}#sk-container-id-2 div.sk-label input.sk-toggleable__control:checked~label.sk-toggleable__label {background-color: #d4ebff;}#sk-container-id-2 input.sk-hidden--visually {border: 0;clip: rect(1px 1px 1px 1px);clip: rect(1px, 1px, 1px, 1px);height: 1px;margin: -1px;overflow: hidden;padding: 0;position: absolute;width: 1px;}#sk-container-id-2 div.sk-estimator {font-family: monospace;background-color: #f0f8ff;border: 1px dotted black;border-radius: 0.25em;box-sizing: border-box;margin-bottom: 0.5em;}#sk-container-id-2 div.sk-estimator:hover {background-color: #d4ebff;}#sk-container-id-2 div.sk-parallel-item::after {content: \"\";width: 100%;border-bottom: 1px solid gray;flex-grow: 1;}#sk-container-id-2 div.sk-label:hover label.sk-toggleable__label {background-color: #d4ebff;}#sk-container-id-2 div.sk-serial::before {content: \"\";position: absolute;border-left: 1px solid gray;box-sizing: border-box;top: 0;bottom: 0;left: 50%;z-index: 0;}#sk-container-id-2 div.sk-serial {display: flex;flex-direction: column;align-items: center;background-color: white;padding-right: 0.2em;padding-left: 0.2em;position: relative;}#sk-container-id-2 div.sk-item {position: relative;z-index: 1;}#sk-container-id-2 div.sk-parallel {display: flex;align-items: stretch;justify-content: center;background-color: white;position: relative;}#sk-container-id-2 div.sk-item::before, #sk-container-id-2 div.sk-parallel-item::before {content: \"\";position: absolute;border-left: 1px solid gray;box-sizing: border-box;top: 0;bottom: 0;left: 50%;z-index: -1;}#sk-container-id-2 div.sk-parallel-item {display: flex;flex-direction: column;z-index: 1;position: relative;background-color: white;}#sk-container-id-2 div.sk-parallel-item:first-child::after {align-self: flex-end;width: 50%;}#sk-container-id-2 div.sk-parallel-item:last-child::after {align-self: flex-start;width: 50%;}#sk-container-id-2 div.sk-parallel-item:only-child::after {width: 0;}#sk-container-id-2 div.sk-dashed-wrapped {border: 1px dashed gray;margin: 0 0.4em 0.5em 0.4em;box-sizing: border-box;padding-bottom: 0.4em;background-color: white;}#sk-container-id-2 div.sk-label label {font-family: monospace;font-weight: bold;display: inline-block;line-height: 1.2em;}#sk-container-id-2 div.sk-label-container {text-align: center;}#sk-container-id-2 div.sk-container {/* jupyter's `normalize.less` sets `[hidden] { display: none; }` but bootstrap.min.css set `[hidden] { display: none !important; }` so we also need the `!important` here to be able to override the default hidden behavior on the sphinx rendered scikit-learn.org. See: https://github.com/scikit-learn/scikit-learn/issues/21755 */display: inline-block !important;position: relative;}#sk-container-id-2 div.sk-text-repr-fallback {display: none;}</style><div id=\"sk-container-id-2\" class=\"sk-top-container\"><div class=\"sk-text-repr-fallback\"><pre>RandomForestClassifier(random_state=42)</pre><b>In a Jupyter environment, please rerun this cell to show the HTML representation or trust the notebook. <br />On GitHub, the HTML representation is unable to render, please try loading this page with nbviewer.org.</b></div><div class=\"sk-container\" hidden><div class=\"sk-item\"><div class=\"sk-estimator sk-toggleable\"><input class=\"sk-toggleable__control sk-hidden--visually\" id=\"sk-estimator-id-2\" type=\"checkbox\" checked><label for=\"sk-estimator-id-2\" class=\"sk-toggleable__label sk-toggleable__label-arrow\">RandomForestClassifier</label><div class=\"sk-toggleable__content\"><pre>RandomForestClassifier(random_state=42)</pre></div></div></div></div></div>"
      ],
      "text/plain": [
       "RandomForestClassifier(random_state=42)"
      ]
     },
     "execution_count": 40,
     "metadata": {},
     "output_type": "execute_result"
    }
   ],
   "source": [
    "# Model training\n",
    "model = RandomForestClassifier(random_state=42)\n",
    "model.fit(X_train, y_train)"
   ]
  },
  {
   "cell_type": "code",
   "execution_count": 41,
   "id": "6f9d5a47",
   "metadata": {},
   "outputs": [],
   "source": [
    "g_test = gary_voters[features]\n",
    "j_test = jill_voters[features]\n",
    "e_test = evan_voters[features]\n"
   ]
  },
  {
   "cell_type": "code",
   "execution_count": 42,
   "id": "b4ecfd46",
   "metadata": {},
   "outputs": [
    {
     "data": {
      "image/png": "[encoded data removed]",
      "text/plain": [
       "<Figure size 640x480 with 1 Axes>"
      ]
     },
     "metadata": {},
     "output_type": "display_data"
    }
   ],
   "source": [
    "g_predictions = model.predict(g_test)\n",
    "vis(g_predictions, \"Gary\")\n",
    "gpp = pd.Series(g_predictions).value_counts(normalize=True) * 100\n"
   ]
  },
  {
   "cell_type": "code",
   "execution_count": 43,
   "id": "2a7f402e",
   "metadata": {},
   "outputs": [
    {
     "data": {
      "image/png": "[encoded data removed]",
      "text/plain": [
       "<Figure size 640x480 with 1 Axes>"
      ]
     },
     "metadata": {},
     "output_type": "display_data"
    }
   ],
   "source": [
    "j_predictions = model.predict(j_test)\n",
    "vis(j_predictions, \"Jill\")\n",
    "jpp = pd.Series(j_predictions).value_counts(normalize=True) * 100\n"
   ]
  },
  {
   "cell_type": "code",
   "execution_count": 44,
   "id": "4edfcf26",
   "metadata": {
    "scrolled": true
   },
   "outputs": [
    {
     "data": {
      "image/png": "[encoded data removed]",
      "text/plain": [
       "<Figure size 640x480 with 1 Axes>"
      ]
     },
     "metadata": {},
     "output_type": "display_data"
    }
   ],
   "source": [
    "e_predictions = model.predict(e_test)\n",
    "vis(e_predictions, \"Evan\")\n",
    "epp = pd.Series(e_predictions).value_counts(normalize=True) * 100\n"
   ]
  },
  {
   "cell_type": "code",
   "execution_count": 45,
   "id": "b84b7e09",
   "metadata": {},
   "outputs": [],
   "source": [
    "popular_vote = xls_data[\"Table 1. 2016 Pres Popular Vote\"]\n",
    "# print(popular_vote.head())\n",
    "clinton_popular_vote = popular_vote.iloc[3, 1]\n",
    "trump_popular_vote = popular_vote.iloc[4, 1]\n",
    "gary_popular_vote = popular_vote.iloc[5, 1]\n",
    "jill_popular_vote = popular_vote.iloc[6, 1]\n",
    "evan_popular_vote = popular_vote.iloc[7, 1]\n",
    "\n",
    "total_third_party_votes = gary_popular_vote + jill_popular_vote + evan_popular_vote"
   ]
  },
  {
   "cell_type": "code",
   "execution_count": 46,
   "id": "c927cc2d",
   "metadata": {},
   "outputs": [
    {
     "name": "stdout",
     "output_type": "stream",
     "text": [
      "{'AL': 3, 'AK': 4, 'AZ': 5, 'AR': 6, 'CA': 7, 'CO': 8, 'CT': 9, 'DE': 10, 'DC': 11, 'FL': 12, 'GA': 13, 'HI': 14, 'ID': 15, 'IL': 16, 'IN': 17, 'IA': 18, 'KS': 19, 'KY': 20, 'LA': 21, 'ME': 22, 'MD': 23, 'MA': 24, 'MI': 25, 'MN': 26, 'MS': 27, 'MO': 28, 'MT': 29, 'NE': 30, 'NV': 31, 'NH': 32, 'NJ': 33, 'NM': 34, 'NY': 35, 'NC': 36, 'ND': 37, 'OH': 38, 'OK': 39, 'OR': 40, 'PA': 41, 'RI': 42, 'SC': 43, 'SD': 44, 'TN': 45, 'TX': 46, 'UT': 47, 'VT': 48, 'VA': 49, 'WA': 50, 'WV': 51, 'WI': 52, 'WY': 53}\n"
     ]
    }
   ],
   "source": [
    "spv = xls_data['Table 2. Electoral &  Pop Vote']\n",
    "STATE = 0\n",
    "TRUMP = 3\n",
    "CLINTON = 4\n",
    "OTHERS = 5\n",
    "TOTAL = 6\n",
    "states = {}\n",
    "for row in range(3, 54):\n",
    "    state = spv.iloc[row, 0]\n",
    "    t_votes = spv.iloc[row, TRUMP]\n",
    "    c_votes = spv.iloc[row, CLINTON]\n",
    "    o_votes = spv.iloc[row, OTHERS]\n",
    "    total = spv.iloc[row, TOTAL]\n",
    "#     print(state, t_votes, c_votes, o_votes, total)\n",
    "    \n",
    "\n",
    "    states[state] = row\n",
    "print(states)\n",
    "\n",
    "    "
   ]
  },
  {
   "cell_type": "code",
   "execution_count": 47,
   "id": "8debaee1",
   "metadata": {},
   "outputs": [
    {
     "name": "stdout",
     "output_type": "stream",
     "text": [
      "107281 159597 0.6722029482447537\n",
      "61935.42268041237\n"
     ]
    }
   ],
   "source": [
    "ballots = {}\n",
    "t = 0\n",
    "c = 1\n",
    "for state in states:\n",
    "    row = states[state]\n",
    "    t_votes = spv.iloc[row, TRUMP]\n",
    "    c_votes = spv.iloc[row, CLINTON]\n",
    "    o_votes = spv.iloc[row, OTHERS]\n",
    "    g_votes = int(o_votes * (gary_popular_vote/total_third_party_votes))\n",
    "    j_votes = int(o_votes * (jill_popular_vote/total_third_party_votes))\n",
    "    e_votes = int(o_votes * (evan_popular_vote/total_third_party_votes))\n",
    "    if state == \"AZ\":\n",
    "        print(g_votes, o_votes, gary_popular_vote/total_third_party_votes)\n",
    "        print(g_votes*(gpp[t]/100))\n",
    "    ballots[state] = [Ballot(ranking=('TRUMP',), tally=t_votes),\n",
    "                     Ballot(ranking=('CLINTON',), tally=c_votes),\n",
    "                     Ballot(ranking=('GARY', 'TRUMP'), tally=int(g_votes*gpp[t]/100)),\n",
    "                     Ballot(ranking=('GARY', 'CLINTON'), tally=int(g_votes*gpp[c]/100)),\n",
    "                     Ballot(ranking=('JILL', 'TRUMP'), tally=int(j_votes*jpp[t]/100)),\n",
    "                     Ballot(ranking=('JILL', 'CLINTON'), tally=int(j_votes*jpp[c]/100)),\n",
    "                     Ballot(ranking=('EVAN', 'TRUMP'), tally=int(e_votes*epp[t]/100)),\n",
    "                     Ballot(ranking=('EVAN', 'CLINTON'), tally=int(e_votes*epp[c]/100))]\n",
    "    "
   ]
  },
  {
   "cell_type": "code",
   "execution_count": 48,
   "id": "55aaf65c",
   "metadata": {},
   "outputs": [
    {
     "name": "stdout",
     "output_type": "stream",
     "text": [
      "AL [Ballot(ranking=('TRUMP',), tally=1318255), Ballot(ranking=('CLINTON',), tally=729547), Ballot(ranking=('GARY', 'TRUMP'), tally=29326), Ballot(ranking=('GARY', 'CLINTON'), tally=21471), Ballot(ranking=('JILL', 'TRUMP'), tally=2020), Ballot(ranking=('JILL', 'CLINTON'), tally=14467), Ballot(ranking=('EVAN', 'TRUMP'), tally=5270), Ballot(ranking=('EVAN', 'CLINTON'), tally=3011)]\n",
      "\n",
      "AK [Ballot(ranking=('TRUMP',), tally=163387), Ballot(ranking=('CLINTON',), tally=116454), Ballot(ranking=('GARY', 'TRUMP'), tally=15044), Ballot(ranking=('GARY', 'CLINTON'), tally=11014), Ballot(ranking=('JILL', 'TRUMP'), tally=1036), Ballot(ranking=('JILL', 'CLINTON'), tally=7421), Ballot(ranking=('EVAN', 'TRUMP'), tally=2703), Ballot(ranking=('EVAN', 'CLINTON'), tally=1544)]\n",
      "\n",
      "AZ [Ballot(ranking=('TRUMP',), tally=1252401), Ballot(ranking=('CLINTON',), tally=1161167), Ballot(ranking=('GARY', 'TRUMP'), tally=61935), Ballot(ranking=('GARY', 'CLINTON'), tally=45345), Ballot(ranking=('JILL', 'TRUMP'), tally=4267), Ballot(ranking=('JILL', 'CLINTON'), tally=30555), Ballot(ranking=('EVAN', 'TRUMP'), tally=11131), Ballot(ranking=('EVAN', 'CLINTON'), tally=6360)]\n",
      "\n",
      "AR [Ballot(ranking=('TRUMP',), tally=684872), Ballot(ranking=('CLINTON',), tally=380494), Ballot(ranking=('GARY', 'TRUMP'), tally=25344), Ballot(ranking=('GARY', 'CLINTON'), tally=18556), Ballot(ranking=('JILL', 'TRUMP'), tally=1746), Ballot(ranking=('JILL', 'CLINTON'), tally=12503), Ballot(ranking=('EVAN', 'TRUMP'), tally=4555), Ballot(ranking=('EVAN', 'CLINTON'), tally=2602)]\n",
      "\n",
      "CA [Ballot(ranking=('TRUMP',), tally=4483814), Ballot(ranking=('CLINTON',), tally=8753792), Ballot(ranking=('GARY', 'TRUMP'), tally=366342), Ballot(ranking=('GARY', 'CLINTON'), tally=268215), Ballot(ranking=('JILL', 'TRUMP'), tally=25241), Ballot(ranking=('JILL', 'CLINTON'), tally=180732), Ballot(ranking=('EVAN', 'TRUMP'), tally=65841), Ballot(ranking=('EVAN', 'CLINTON'), tally=37623)]\n",
      "\n",
      "CO [Ballot(ranking=('TRUMP',), tally=1202484), Ballot(ranking=('CLINTON',), tally=1338870), Ballot(ranking=('GARY', 'TRUMP'), tally=92708), Ballot(ranking=('GARY', 'CLINTON'), tally=67875), Ballot(ranking=('JILL', 'TRUMP'), tally=6387), Ballot(ranking=('JILL', 'CLINTON'), tally=45736), Ballot(ranking=('EVAN', 'TRUMP'), tally=16661), Ballot(ranking=('EVAN', 'CLINTON'), tally=9521)]\n",
      "\n",
      "CT [Ballot(ranking=('TRUMP',), tally=673215), Ballot(ranking=('CLINTON',), tally=897572), Ballot(ranking=('GARY', 'TRUMP'), tally=28768), Ballot(ranking=('GARY', 'CLINTON'), tally=21063), Ballot(ranking=('JILL', 'TRUMP'), tally=1982), Ballot(ranking=('JILL', 'CLINTON'), tally=14192), Ballot(ranking=('EVAN', 'TRUMP'), tally=5170), Ballot(ranking=('EVAN', 'CLINTON'), tally=2954)]\n",
      "\n",
      "DE [Ballot(ranking=('TRUMP',), tally=185127), Ballot(ranking=('CLINTON',), tally=235603), Ballot(ranking=('GARY', 'TRUMP'), tally=8958), Ballot(ranking=('GARY', 'CLINTON'), tally=6558), Ballot(ranking=('JILL', 'TRUMP'), tally=617), Ballot(ranking=('JILL', 'CLINTON'), tally=4418), Ballot(ranking=('EVAN', 'TRUMP'), tally=1610), Ballot(ranking=('EVAN', 'CLINTON'), tally=920)]\n",
      "\n",
      "DC [Ballot(ranking=('TRUMP',), tally=12723), Ballot(ranking=('CLINTON',), tally=282830), Ballot(ranking=('GARY', 'TRUMP'), tally=6098), Ballot(ranking=('GARY', 'CLINTON'), tally=4464), Ballot(ranking=('JILL', 'TRUMP'), tally=420), Ballot(ranking=('JILL', 'CLINTON'), tally=3007), Ballot(ranking=('EVAN', 'TRUMP'), tally=1095), Ballot(ranking=('EVAN', 'CLINTON'), tally=626)]\n",
      "\n",
      "FL [Ballot(ranking=('TRUMP',), tally=4617886), Ballot(ranking=('CLINTON',), tally=4504975), Ballot(ranking=('GARY', 'TRUMP'), tally=115327), Ballot(ranking=('GARY', 'CLINTON'), tally=84435), Ballot(ranking=('JILL', 'TRUMP'), tally=7946), Ballot(ranking=('JILL', 'CLINTON'), tally=56895), Ballot(ranking=('EVAN', 'TRUMP'), tally=20727), Ballot(ranking=('EVAN', 'CLINTON'), tally=11844)]\n",
      "\n",
      "GA [Ballot(ranking=('TRUMP',), tally=2089104), Ballot(ranking=('CLINTON',), tally=1877963), Ballot(ranking=('GARY', 'TRUMP'), tally=57304), Ballot(ranking=('GARY', 'CLINTON'), tally=41955), Ballot(ranking=('JILL', 'TRUMP'), tally=3948), Ballot(ranking=('JILL', 'CLINTON'), tally=28270), Ballot(ranking=('EVAN', 'TRUMP'), tally=10298), Ballot(ranking=('EVAN', 'CLINTON'), tally=5885)]\n",
      "\n",
      "HI [Ballot(ranking=('TRUMP',), tally=128847), Ballot(ranking=('CLINTON',), tally=266891), Ballot(ranking=('GARY', 'TRUMP'), tally=12883), Ballot(ranking=('GARY', 'CLINTON'), tally=9432), Ballot(ranking=('JILL', 'TRUMP'), tally=887), Ballot(ranking=('JILL', 'CLINTON'), tally=6355), Ballot(ranking=('EVAN', 'TRUMP'), tally=2315), Ballot(ranking=('EVAN', 'CLINTON'), tally=1322)]\n",
      "\n",
      "ID [Ballot(ranking=('TRUMP',), tally=409055), Ballot(ranking=('CLINTON',), tally=189765), Ballot(ranking=('GARY', 'TRUMP'), tally=35483), Ballot(ranking=('GARY', 'CLINTON'), tally=25978), Ballot(ranking=('JILL', 'TRUMP'), tally=2444), Ballot(ranking=('JILL', 'CLINTON'), tally=17505), Ballot(ranking=('EVAN', 'TRUMP'), tally=6377), Ballot(ranking=('EVAN', 'CLINTON'), tally=3644)]\n",
      "\n",
      "IL [Ballot(ranking=('TRUMP',), tally=2146015), Ballot(ranking=('CLINTON',), tally=3090729), Ballot(ranking=('GARY', 'TRUMP'), tally=116298), Ballot(ranking=('GARY', 'CLINTON'), tally=85146), Ballot(ranking=('JILL', 'TRUMP'), tally=8013), Ballot(ranking=('JILL', 'CLINTON'), tally=57374), Ballot(ranking=('EVAN', 'TRUMP'), tally=20901), Ballot(ranking=('EVAN', 'CLINTON'), tally=11943)]\n",
      "\n",
      "IN [Ballot(ranking=('TRUMP',), tally=1557286), Ballot(ranking=('CLINTON',), tally=1033126), Ballot(ranking=('GARY', 'TRUMP'), tally=56094), Ballot(ranking=('GARY', 'CLINTON'), tally=41069), Ballot(ranking=('JILL', 'TRUMP'), tally=3865), Ballot(ranking=('JILL', 'CLINTON'), tally=27673), Ballot(ranking=('EVAN', 'TRUMP'), tally=10081), Ballot(ranking=('EVAN', 'CLINTON'), tally=5760)]\n",
      "\n",
      "IA [Ballot(ranking=('TRUMP',), tally=800983), Ballot(ranking=('CLINTON',), tally=653669), Ballot(ranking=('GARY', 'TRUMP'), tally=43223), Ballot(ranking=('GARY', 'CLINTON'), tally=31645), Ballot(ranking=('JILL', 'TRUMP'), tally=2978), Ballot(ranking=('JILL', 'CLINTON'), tally=21323), Ballot(ranking=('EVAN', 'TRUMP'), tally=7768), Ballot(ranking=('EVAN', 'CLINTON'), tally=4438)]\n",
      "\n",
      "KS [Ballot(ranking=('TRUMP',), tally=671018), Ballot(ranking=('CLINTON',), tally=427005), Ballot(ranking=('GARY', 'TRUMP'), tally=33521), Ballot(ranking=('GARY', 'CLINTON'), tally=24542), Ballot(ranking=('JILL', 'TRUMP'), tally=2309), Ballot(ranking=('JILL', 'CLINTON'), tally=16537), Ballot(ranking=('EVAN', 'TRUMP'), tally=6024), Ballot(ranking=('EVAN', 'CLINTON'), tally=3442)]\n",
      "\n",
      "KY [Ballot(ranking=('TRUMP',), tally=1202971), Ballot(ranking=('CLINTON',), tally=628854), Ballot(ranking=('GARY', 'TRUMP'), tally=35828), Ballot(ranking=('GARY', 'CLINTON'), tally=26231), Ballot(ranking=('JILL', 'TRUMP'), tally=2468), Ballot(ranking=('JILL', 'CLINTON'), tally=17675), Ballot(ranking=('EVAN', 'TRUMP'), tally=6439), Ballot(ranking=('EVAN', 'CLINTON'), tally=3679)]\n",
      "\n",
      "LA [Ballot(ranking=('TRUMP',), tally=1178638), Ballot(ranking=('CLINTON',), tally=780154), Ballot(ranking=('GARY', 'TRUMP'), tally=27258), Ballot(ranking=('GARY', 'CLINTON'), tally=19956), Ballot(ranking=('JILL', 'TRUMP'), tally=1878), Ballot(ranking=('JILL', 'CLINTON'), tally=13446), Ballot(ranking=('EVAN', 'TRUMP'), tally=4898), Ballot(ranking=('EVAN', 'CLINTON'), tally=2799)]\n",
      "\n",
      "ME [Ballot(ranking=('TRUMP',), tally=335593), Ballot(ranking=('CLINTON',), tally=357735), Ballot(ranking=('GARY', 'TRUMP'), tally=21188), Ballot(ranking=('GARY', 'CLINTON'), tally=15512), Ballot(ranking=('JILL', 'TRUMP'), tally=1459), Ballot(ranking=('JILL', 'CLINTON'), tally=10453), Ballot(ranking=('EVAN', 'TRUMP'), tally=3808), Ballot(ranking=('EVAN', 'CLINTON'), tally=2176)]\n",
      "\n",
      "MD [Ballot(ranking=('TRUMP',), tally=943169), Ballot(ranking=('CLINTON',), tally=1677928), Ballot(ranking=('GARY', 'TRUMP'), tally=62227), Ballot(ranking=('GARY', 'CLINTON'), tally=45559), Ballot(ranking=('JILL', 'TRUMP'), tally=4287), Ballot(ranking=('JILL', 'CLINTON'), tally=30699), Ballot(ranking=('EVAN', 'TRUMP'), tally=11183), Ballot(ranking=('EVAN', 'CLINTON'), tally=6390)]\n",
      "\n",
      "MA [Ballot(ranking=('TRUMP',), tally=1090893), Ballot(ranking=('CLINTON',), tally=1995196), Ballot(ranking=('GARY', 'TRUMP'), tally=92733), Ballot(ranking=('GARY', 'CLINTON'), tally=67893), Ballot(ranking=('JILL', 'TRUMP'), tally=6389), Ballot(ranking=('JILL', 'CLINTON'), tally=45748), Ballot(ranking=('EVAN', 'TRUMP'), tally=16666), Ballot(ranking=('EVAN', 'CLINTON'), tally=9523)]\n",
      "\n",
      "MI [Ballot(ranking=('TRUMP',), tally=2279543), Ballot(ranking=('CLINTON',), tally=2268839), Ballot(ranking=('GARY', 'TRUMP'), tally=97368), Ballot(ranking=('GARY', 'CLINTON'), tally=71288), Ballot(ranking=('JILL', 'TRUMP'), tally=6708), Ballot(ranking=('JILL', 'CLINTON'), tally=48036), Ballot(ranking=('EVAN', 'TRUMP'), tally=17499), Ballot(ranking=('EVAN', 'CLINTON'), tally=9999)]\n",
      "\n",
      "MN [Ballot(ranking=('TRUMP',), tally=1322951), Ballot(ranking=('CLINTON',), tally=1367716), Ballot(ranking=('GARY', 'TRUMP'), tally=98627), Ballot(ranking=('GARY', 'CLINTON'), tally=72209), Ballot(ranking=('JILL', 'TRUMP'), tally=6795), Ballot(ranking=('JILL', 'CLINTON'), tally=48657), Ballot(ranking=('EVAN', 'TRUMP'), tally=17725), Ballot(ranking=('EVAN', 'CLINTON'), tally=10129)]\n",
      "\n",
      "MS [Ballot(ranking=('TRUMP',), tally=700714), Ballot(ranking=('CLINTON',), tally=485131), Ballot(ranking=('GARY', 'TRUMP'), tally=9123), Ballot(ranking=('GARY', 'CLINTON'), tally=6680), Ballot(ranking=('JILL', 'TRUMP'), tally=628), Ballot(ranking=('JILL', 'CLINTON'), tally=4501), Ballot(ranking=('EVAN', 'TRUMP'), tally=1639), Ballot(ranking=('EVAN', 'CLINTON'), tally=936)]\n",
      "\n",
      "MO [Ballot(ranking=('TRUMP',), tally=1594511), Ballot(ranking=('CLINTON',), tally=1071068), Ballot(ranking=('GARY', 'TRUMP'), tally=55504), Ballot(ranking=('GARY', 'CLINTON'), tally=40637), Ballot(ranking=('JILL', 'TRUMP'), tally=3824), Ballot(ranking=('JILL', 'CLINTON'), tally=27382), Ballot(ranking=('EVAN', 'TRUMP'), tally=9975), Ballot(ranking=('EVAN', 'CLINTON'), tally=5700)]\n",
      "\n",
      "MT [Ballot(ranking=('TRUMP',), tally=279240), Ballot(ranking=('CLINTON',), tally=177709), Ballot(ranking=('GARY', 'TRUMP'), tally=15599), Ballot(ranking=('GARY', 'CLINTON'), tally=11421), Ballot(ranking=('JILL', 'TRUMP'), tally=1074), Ballot(ranking=('JILL', 'CLINTON'), tally=7695), Ballot(ranking=('EVAN', 'TRUMP'), tally=2803), Ballot(ranking=('EVAN', 'CLINTON'), tally=1601)]\n",
      "\n",
      "NE [Ballot(ranking=('TRUMP',), tally=495961), Ballot(ranking=('CLINTON',), tally=284494), Ballot(ranking=('GARY', 'TRUMP'), tally=24747), Ballot(ranking=('GARY', 'CLINTON'), tally=18119), Ballot(ranking=('JILL', 'TRUMP'), tally=1705), Ballot(ranking=('JILL', 'CLINTON'), tally=12208), Ballot(ranking=('EVAN', 'TRUMP'), tally=4447), Ballot(ranking=('EVAN', 'CLINTON'), tally=2541)]\n",
      "\n",
      "NV [Ballot(ranking=('TRUMP',), tally=512058), Ballot(ranking=('CLINTON',), tally=539260), Ballot(ranking=('GARY', 'TRUMP'), tally=28743), Ballot(ranking=('GARY', 'CLINTON'), tally=21044), Ballot(ranking=('JILL', 'TRUMP'), tally=1980), Ballot(ranking=('JILL', 'CLINTON'), tally=14179), Ballot(ranking=('EVAN', 'TRUMP'), tally=5165), Ballot(ranking=('EVAN', 'CLINTON'), tally=2951)]\n",
      "\n",
      "NH [Ballot(ranking=('TRUMP',), tally=345790), Ballot(ranking=('CLINTON',), tally=348526), Ballot(ranking=('GARY', 'TRUMP'), tally=19395), Ballot(ranking=('GARY', 'CLINTON'), tally=14200), Ballot(ranking=('JILL', 'TRUMP'), tally=1336), Ballot(ranking=('JILL', 'CLINTON'), tally=9568), Ballot(ranking=('EVAN', 'TRUMP'), tally=3485), Ballot(ranking=('EVAN', 'CLINTON'), tally=1991)]\n",
      "\n",
      "NJ [Ballot(ranking=('TRUMP',), tally=1601933), Ballot(ranking=('CLINTON',), tally=2148278), Ballot(ranking=('GARY', 'TRUMP'), tally=48057), Ballot(ranking=('GARY', 'CLINTON'), tally=35184), Ballot(ranking=('JILL', 'TRUMP'), tally=3311), Ballot(ranking=('JILL', 'CLINTON'), tally=23708), Ballot(ranking=('EVAN', 'TRUMP'), tally=8636), Ballot(ranking=('EVAN', 'CLINTON'), tally=4935)]\n",
      "\n",
      "NM [Ballot(ranking=('TRUMP',), tally=319667), Ballot(ranking=('CLINTON',), tally=385234), Ballot(ranking=('GARY', 'TRUMP'), tally=36252), Ballot(ranking=('GARY', 'CLINTON'), tally=26542), Ballot(ranking=('JILL', 'TRUMP'), tally=2497), Ballot(ranking=('JILL', 'CLINTON'), tally=17885), Ballot(ranking=('EVAN', 'TRUMP'), tally=6515), Ballot(ranking=('EVAN', 'CLINTON'), tally=3722)]\n",
      "\n",
      "NY [Ballot(ranking=('TRUMP',), tally=2819533), Ballot(ranking=('CLINTON',), tally=4556118), Ballot(ranking=('GARY', 'TRUMP'), tally=134192), Ballot(ranking=('GARY', 'CLINTON'), tally=98248), Ballot(ranking=('JILL', 'TRUMP'), tally=9246), Ballot(ranking=('JILL', 'CLINTON'), tally=66202), Ballot(ranking=('EVAN', 'TRUMP'), tally=24117), Ballot(ranking=('EVAN', 'CLINTON'), tally=13781)]\n",
      "\n",
      "NC [Ballot(ranking=('TRUMP',), tally=2362631), Ballot(ranking=('CLINTON',), tally=2189316), Ballot(ranking=('GARY', 'TRUMP'), tally=73585), Ballot(ranking=('GARY', 'CLINTON'), tally=53875), Ballot(ranking=('JILL', 'TRUMP'), tally=5070), Ballot(ranking=('JILL', 'CLINTON'), tally=36302), Ballot(ranking=('EVAN', 'TRUMP'), tally=13224), Ballot(ranking=('EVAN', 'CLINTON'), tally=7557)]\n",
      "\n",
      "ND [Ballot(ranking=('TRUMP',), tally=216794), Ballot(ranking=('CLINTON',), tally=93758), Ballot(ranking=('GARY', 'TRUMP'), tally=13119), Ballot(ranking=('GARY', 'CLINTON'), tally=9605), Ballot(ranking=('JILL', 'TRUMP'), tally=903), Ballot(ranking=('JILL', 'CLINTON'), tally=6472), Ballot(ranking=('EVAN', 'TRUMP'), tally=2357), Ballot(ranking=('EVAN', 'CLINTON'), tally=1347)]\n",
      "\n",
      "OH [Ballot(ranking=('TRUMP',), tally=2841005), Ballot(ranking=('CLINTON',), tally=2394164), Ballot(ranking=('GARY', 'TRUMP'), tally=101410), Ballot(ranking=('GARY', 'CLINTON'), tally=74247), Ballot(ranking=('JILL', 'TRUMP'), tally=6987), Ballot(ranking=('JILL', 'CLINTON'), tally=50029), Ballot(ranking=('EVAN', 'TRUMP'), tally=18226), Ballot(ranking=('EVAN', 'CLINTON'), tally=10414)]\n",
      "\n",
      "OK [Ballot(ranking=('TRUMP',), tally=949136), Ballot(ranking=('CLINTON',), tally=420375), Ballot(ranking=('GARY', 'TRUMP'), tally=32396), Ballot(ranking=('GARY', 'CLINTON'), tally=23719), Ballot(ranking=('JILL', 'TRUMP'), tally=2232), Ballot(ranking=('JILL', 'CLINTON'), tally=15982), Ballot(ranking=('EVAN', 'TRUMP'), tally=5822), Ballot(ranking=('EVAN', 'CLINTON'), tally=3326)]\n",
      "\n",
      "OR [Ballot(ranking=('TRUMP',), tally=782403), Ballot(ranking=('CLINTON',), tally=1002106), Ballot(ranking=('GARY', 'TRUMP'), tally=84144), Ballot(ranking=('GARY', 'CLINTON'), tally=61606), Ballot(ranking=('JILL', 'TRUMP'), tally=5797), Ballot(ranking=('JILL', 'CLINTON'), tally=41512), Ballot(ranking=('EVAN', 'TRUMP'), tally=15122), Ballot(ranking=('EVAN', 'CLINTON'), tally=8641)]\n",
      "\n",
      "PA [Ballot(ranking=('TRUMP',), tally=2970733), Ballot(ranking=('CLINTON',), tally=2926441), Ballot(ranking=('GARY', 'TRUMP'), tally=104121), Ballot(ranking=('GARY', 'CLINTON'), tally=76232), Ballot(ranking=('JILL', 'TRUMP'), tally=7174), Ballot(ranking=('JILL', 'CLINTON'), tally=51367), Ballot(ranking=('EVAN', 'TRUMP'), tally=18712), Ballot(ranking=('EVAN', 'CLINTON'), tally=10693)]\n",
      "\n",
      "RI [Ballot(ranking=('TRUMP',), tally=180543), Ballot(ranking=('CLINTON',), tally=252525), Ballot(ranking=('GARY', 'TRUMP'), tally=12059), Ballot(ranking=('GARY', 'CLINTON'), tally=8829), Ballot(ranking=('JILL', 'TRUMP'), tally=830), Ballot(ranking=('JILL', 'CLINTON'), tally=5949), Ballot(ranking=('EVAN', 'TRUMP'), tally=2167), Ballot(ranking=('EVAN', 'CLINTON'), tally=1238)]\n",
      "\n",
      "SC [Ballot(ranking=('TRUMP',), tally=1155389), Ballot(ranking=('CLINTON',), tally=855373), Ballot(ranking=('GARY', 'TRUMP'), tally=35805), Ballot(ranking=('GARY', 'CLINTON'), tally=26214), Ballot(ranking=('JILL', 'TRUMP'), tally=2467), Ballot(ranking=('JILL', 'CLINTON'), tally=17663), Ballot(ranking=('EVAN', 'TRUMP'), tally=6434), Ballot(ranking=('EVAN', 'CLINTON'), tally=3677)]\n",
      "\n",
      "SD [Ballot(ranking=('TRUMP',), tally=227721), Ballot(ranking=('CLINTON',), tally=117458), Ballot(ranking=('GARY', 'TRUMP'), tally=9668), Ballot(ranking=('GARY', 'CLINTON'), tally=7078), Ballot(ranking=('JILL', 'TRUMP'), tally=666), Ballot(ranking=('JILL', 'CLINTON'), tally=4769), Ballot(ranking=('EVAN', 'TRUMP'), tally=1737), Ballot(ranking=('EVAN', 'CLINTON'), tally=992)]\n",
      "\n",
      "TN [Ballot(ranking=('TRUMP',), tally=1522925), Ballot(ranking=('CLINTON',), tally=870695), Ballot(ranking=('GARY', 'TRUMP'), tally=44398), Ballot(ranking=('GARY', 'CLINTON'), tally=32505), Ballot(ranking=('JILL', 'TRUMP'), tally=3059), Ballot(ranking=('JILL', 'CLINTON'), tally=21902), Ballot(ranking=('EVAN', 'TRUMP'), tally=7979), Ballot(ranking=('EVAN', 'CLINTON'), tally=4559)]\n",
      "\n",
      "TX [Ballot(ranking=('TRUMP',), tally=4685047), Ballot(ranking=('CLINTON',), tally=3877868), Ballot(ranking=('GARY', 'TRUMP'), tally=157679), Ballot(ranking=('GARY', 'CLINTON'), tally=115443), Ballot(ranking=('JILL', 'TRUMP'), tally=10864), Ballot(ranking=('JILL', 'CLINTON'), tally=77789), Ballot(ranking=('EVAN', 'TRUMP'), tally=28339), Ballot(ranking=('EVAN', 'CLINTON'), tally=16193)]\n",
      "\n",
      "UT [Ballot(ranking=('TRUMP',), tally=515231), Ballot(ranking=('CLINTON',), tally=310676), Ballot(ranking=('GARY', 'TRUMP'), tally=118565), Ballot(ranking=('GARY', 'CLINTON'), tally=86807), Ballot(ranking=('JILL', 'TRUMP'), tally=8169), Ballot(ranking=('JILL', 'CLINTON'), tally=58493), Ballot(ranking=('EVAN', 'TRUMP'), tally=21309), Ballot(ranking=('EVAN', 'CLINTON'), tally=12176)]\n",
      "\n",
      "VT [Ballot(ranking=('TRUMP',), tally=95369), Ballot(ranking=('CLINTON',), tally=178573), Ballot(ranking=('GARY', 'TRUMP'), tally=15959), Ballot(ranking=('GARY', 'CLINTON'), tally=11684), Ballot(ranking=('JILL', 'TRUMP'), tally=1099), Ballot(ranking=('JILL', 'CLINTON'), tally=7873), Ballot(ranking=('EVAN', 'TRUMP'), tally=2868), Ballot(ranking=('EVAN', 'CLINTON'), tally=1638)]\n",
      "\n",
      "VA [Ballot(ranking=('TRUMP',), tally=1769443), Ballot(ranking=('CLINTON',), tally=1981473), Ballot(ranking=('GARY', 'TRUMP'), tally=90698), Ballot(ranking=('GARY', 'CLINTON'), tally=66404), Ballot(ranking=('JILL', 'TRUMP'), tally=6249), Ballot(ranking=('JILL', 'CLINTON'), tally=44745), Ballot(ranking=('EVAN', 'TRUMP'), tally=16300), Ballot(ranking=('EVAN', 'CLINTON'), tally=9314)]\n",
      "\n",
      "WA [Ballot(ranking=('TRUMP',), tally=1221747), Ballot(ranking=('CLINTON',), tally=1742718), Ballot(ranking=('GARY', 'TRUMP'), tally=136817), Ballot(ranking=('GARY', 'CLINTON'), tally=100169), Ballot(ranking=('JILL', 'TRUMP'), tally=9427), Ballot(ranking=('JILL', 'CLINTON'), tally=67497), Ballot(ranking=('EVAN', 'TRUMP'), tally=24589), Ballot(ranking=('EVAN', 'CLINTON'), tally=14051)]\n",
      "\n",
      "WV [Ballot(ranking=('TRUMP',), tally=489371), Ballot(ranking=('CLINTON',), tally=188794), Ballot(ranking=('GARY', 'TRUMP'), tally=14070), Ballot(ranking=('GARY', 'CLINTON'), tally=10301), Ballot(ranking=('JILL', 'TRUMP'), tally=969), Ballot(ranking=('JILL', 'CLINTON'), tally=6941), Ballot(ranking=('EVAN', 'TRUMP'), tally=2528), Ballot(ranking=('EVAN', 'CLINTON'), tally=1444)]\n",
      "\n",
      "WI [Ballot(ranking=('TRUMP',), tally=1405284), Ballot(ranking=('CLINTON',), tally=1382536), Ballot(ranking=('GARY', 'TRUMP'), tally=73085), Ballot(ranking=('GARY', 'CLINTON'), tally=53509), Ballot(ranking=('JILL', 'TRUMP'), tally=5035), Ballot(ranking=('JILL', 'CLINTON'), tally=36056), Ballot(ranking=('EVAN', 'TRUMP'), tally=13135), Ballot(ranking=('EVAN', 'CLINTON'), tally=7505)]\n",
      "\n",
      "WY [Ballot(ranking=('TRUMP',), tally=174419), Ballot(ranking=('CLINTON',), tally=55973), Ballot(ranking=('GARY', 'TRUMP'), tally=9879), Ballot(ranking=('GARY', 'CLINTON'), tally=7232), Ballot(ranking=('JILL', 'TRUMP'), tally=680), Ballot(ranking=('JILL', 'CLINTON'), tally=4873), Ballot(ranking=('EVAN', 'TRUMP'), tally=1775), Ballot(ranking=('EVAN', 'CLINTON'), tally=1014)]\n",
      "\n"
     ]
    }
   ],
   "source": [
    "\n",
    "for b in ballots:\n",
    "    print(b, ballots[b], end='\\n\\n')"
   ]
  },
  {
   "cell_type": "code",
   "execution_count": 52,
   "id": "0b479dd8",
   "metadata": {},
   "outputs": [],
   "source": [
    "import itertools\n",
    "from collections import defaultdict\n",
    "from typing import List \n",
    "\n",
    "def irv(ballots: List[Ballot]) -> Result:\n",
    "\n",
    "\n",
    "    # Count initial votes\n",
    "    vote_counts = defaultdict(int)\n",
    "    for ballot in ballots:\n",
    "        if ballot.ranking:  # check if ranking is non-empty\n",
    "#             print(ballot.ranking[0])\n",
    "            vote_counts[ballot.ranking[0]] += ballot.tally\n",
    "\n",
    "    total_votes = sum(vote_counts.values())\n",
    "    majority = total_votes / 2\n",
    "\n",
    "    # Simulation of voting rounds\n",
    "    while True:\n",
    "        # Check for majority\n",
    "        for candidate, votes in vote_counts.items():\n",
    "            if votes > majority:\n",
    "#                 print(candidate)\n",
    "                return (candidate, True)  # Return winner and no tie\n",
    "\n",
    "        # Find candidate(s) with the least votes\n",
    "        min_votes = min(vote_counts.values())\n",
    "        candidates_to_remove = [candidate for candidate, votes in vote_counts.items() if votes == min_votes]\n",
    "\n",
    "        # Check for a tie: all remaining candidates have the same number of votes\n",
    "        if len(vote_counts) == len(candidates_to_remove):\n",
    "            return (None, False)  # No winner, tie\n",
    "\n",
    "        # Eliminate candidate(s) with the least votes\n",
    "        for candidate in candidates_to_remove:\n",
    "            del vote_counts[candidate]\n",
    "\n",
    "        # Reallocate votes from eliminated candidates\n",
    "        for ballot in ballots:\n",
    "            for rank in itertools.islice(ballot.ranking, 1, None):  # Start from second preference\n",
    "                if rank in vote_counts:  # If this candidate hasn't been eliminated\n",
    "                    vote_counts[rank] += ballot.tally\n",
    "                    break  # Stop at the first available candidate in the ranking\n",
    "\n",
    "    return (None, False)  # In case something goes wrong, indicate a tie with no winner\n",
    "\n"
   ]
  },
  {
   "cell_type": "code",
   "execution_count": 88,
   "id": "9a7b5bf1",
   "metadata": {},
   "outputs": [
    {
     "name": "stdout",
     "output_type": "stream",
     "text": [
      "538\n",
      "51\n",
      "51\n"
     ]
    }
   ],
   "source": [
    "state_electoral_votes = {\n",
    "    'AL': 9, 'AK': 3, 'AZ': 11, 'AR': 6, 'CA': 55, 'CO': 9, 'CT': 7, 'DC': 3, 'DE': 3, 'FL': 29, 'GA': 16,\n",
    "    'HI': 4, 'ID': 4, 'IL': 20, 'IN': 11, 'IA': 6, 'KS': 6, 'KY': 8, 'LA': 8, 'ME': 4, 'MD': 10,\n",
    "    'MA': 11, 'MI': 16, 'MN': 10, 'MS': 6, 'MO': 10, 'MT': 3, 'NE': 5, 'NV': 6, 'NH': 4, 'NJ': 14,\n",
    "    'NM': 5, 'NY': 29, 'NC': 15, 'ND': 3, 'OH': 18, 'OK': 7, 'OR': 7, 'PA': 20, 'RI': 4, 'SC': 9,\n",
    "    'SD': 3, 'TN': 11, 'TX': 38, 'UT': 6, 'VT': 3, 'VA': 13, 'WA': 12, 'WV': 5, 'WI': 10, 'WY': 3\n",
    "}\n",
    "\n",
    "print(sum(state_electoral_votes.values()))\n",
    "print(len(state_electoral_votes.keys()))\n",
    "print(len(states))"
   ]
  },
  {
   "cell_type": "code",
   "execution_count": 54,
   "id": "39802a03",
   "metadata": {},
   "outputs": [
    {
     "name": "stdout",
     "output_type": "stream",
     "text": [
      "[Ballot(ranking=('TRUMP',), tally=1252401), Ballot(ranking=('CLINTON',), tally=1161167), Ballot(ranking=('GARY', 'TRUMP'), tally=61935), Ballot(ranking=('GARY', 'CLINTON'), tally=45345), Ballot(ranking=('JILL', 'TRUMP'), tally=4267), Ballot(ranking=('JILL', 'CLINTON'), tally=30555), Ballot(ranking=('EVAN', 'TRUMP'), tally=11131), Ballot(ranking=('EVAN', 'CLINTON'), tally=6360)]\n"
     ]
    }
   ],
   "source": [
    "az = ballots[\"AZ\"]\n",
    "print(az)"
   ]
  },
  {
   "cell_type": "code",
   "execution_count": 82,
   "id": "2c055df8",
   "metadata": {},
   "outputs": [
    {
     "name": "stdout",
     "output_type": "stream",
     "text": [
      "304 227\n"
     ]
    }
   ],
   "source": [
    "tev = int(spv.iloc[54, 1].strip('*'))\n",
    "cev = int(spv.iloc[54, 2].strip('*'))\n",
    "og_t = tev\n",
    "og_c = cev\n",
    "print(tev, cev)"
   ]
  },
  {
   "cell_type": "code",
   "execution_count": 83,
   "id": "fd15b5d9",
   "metadata": {},
   "outputs": [
    {
     "name": "stdout",
     "output_type": "stream",
     "text": [
      "9 nan\n",
      "9 0\n",
      "3 nan\n",
      "12 0\n",
      "11 nan\n",
      "23 0\n",
      "6 nan\n",
      "29 0\n",
      "nan 55\n",
      "29 55\n",
      "nan 9\n",
      "29 64\n",
      "nan 7\n",
      "29 71\n",
      "nan 3\n",
      "29 74\n",
      "nan 3\n",
      "29 77\n",
      "29 nan\n",
      "58 77\n",
      "16 nan\n",
      "74 77\n",
      "nan 3**\n",
      "74 80\n",
      "4 nan\n",
      "78 80\n",
      "nan 20\n",
      "78 100\n",
      "11 nan\n",
      "89 100\n",
      "6 nan\n",
      "95 100\n",
      "6 nan\n",
      "101 100\n",
      "8 nan\n",
      "109 100\n",
      "8 nan\n",
      "117 100\n",
      "1 3\n",
      "118 103\n",
      "nan 10\n",
      "118 113\n",
      "nan 11\n",
      "118 124\n",
      "16 nan\n",
      "134 124\n",
      "nan 10\n",
      "134 134\n",
      "6 nan\n",
      "140 134\n",
      "10 nan\n",
      "150 134\n",
      "3 nan\n",
      "153 134\n",
      "5 nan\n",
      "158 134\n",
      "nan 6\n",
      "158 140\n",
      "nan 4\n",
      "158 144\n",
      "nan 14\n",
      "158 158\n",
      "nan 5\n",
      "158 163\n",
      "nan 29\n",
      "158 192\n",
      "15 nan\n",
      "173 192\n",
      "3 nan\n",
      "176 192\n",
      "18 nan\n",
      "194 192\n",
      "7 nan\n",
      "201 192\n",
      "nan 7\n",
      "201 199\n",
      "20 nan\n",
      "221 199\n",
      "nan 4\n",
      "221 203\n",
      "9 nan\n",
      "230 203\n",
      "3 nan\n",
      "233 203\n",
      "11 nan\n",
      "244 203\n",
      "36* nan\n",
      "280 203\n",
      "6 nan\n",
      "286 203\n",
      "nan 3\n",
      "286 206\n",
      "nan 13\n",
      "286 219\n",
      "nan 8**\n",
      "286 227\n",
      "5 nan\n",
      "291 227\n",
      "10 nan\n",
      "301 227\n",
      "3 nan\n",
      "304 227\n"
     ]
    }
   ],
   "source": [
    "tt = 0\n",
    "ct = 0\n",
    "for s, row in states.items():\n",
    "    trumpp = spv.iloc[row, 1]\n",
    "    clintonn = spv.iloc[row, 2]\n",
    "    print(trumpp, clintonn)\n",
    "    if not pd.isna(trumpp):\n",
    "        if type(trumpp) == type(1):\n",
    "            tt += int(trumpp)\n",
    "        else:\n",
    "            tt += int(trumpp.strip(\"*\"))\n",
    "    if not pd.isna(clintonn):\n",
    "        if type(clintonn) == type(1):\n",
    "            ct += int(clintonn)\n",
    "        else:\n",
    "            ct += int(clintonn.strip(\"*\"))\n",
    "    print(tt, ct)\n",
    "\n",
    "    \n",
    "tev -= tt\n",
    "cev -= ct\n"
   ]
  },
  {
   "cell_type": "code",
   "execution_count": 85,
   "id": "c4a2695b",
   "metadata": {},
   "outputs": [
    {
     "name": "stdout",
     "output_type": "stream",
     "text": [
      "AL -- Winner: TRUMP, No ties: True\n",
      "POINTS: 9 Trump: 9 Clinton: 0\n",
      "AK -- Winner: TRUMP, No ties: True\n",
      "POINTS: 3 Trump: 12 Clinton: 0\n",
      "AZ -- Winner: TRUMP, No ties: True\n",
      "POINTS: 11 Trump: 23 Clinton: 0\n",
      "AR -- Winner: TRUMP, No ties: True\n",
      "POINTS: 6 Trump: 29 Clinton: 0\n",
      "CA -- Winner: CLINTON, No ties: True\n",
      "POINTS: 55 Trump: 29 Clinton: 55\n",
      "CO -- Winner: CLINTON, No ties: True\n",
      "POINTS: 9 Trump: 29 Clinton: 64\n",
      "CT -- Winner: CLINTON, No ties: True\n",
      "POINTS: 7 Trump: 29 Clinton: 71\n",
      "DE -- Winner: CLINTON, No ties: True\n",
      "POINTS: 3 Trump: 29 Clinton: 74\n",
      "DC -- Winner: CLINTON, No ties: True\n",
      "POINTS: 3 Trump: 29 Clinton: 77\n",
      "FL -- Winner: TRUMP, No ties: True\n",
      "POINTS: 29 Trump: 58 Clinton: 77\n",
      "GA -- Winner: TRUMP, No ties: True\n",
      "POINTS: 16 Trump: 74 Clinton: 77\n",
      "HI -- Winner: CLINTON, No ties: True\n",
      "POINTS: 4 Trump: 74 Clinton: 81\n",
      "ID -- Winner: TRUMP, No ties: True\n",
      "POINTS: 4 Trump: 78 Clinton: 81\n",
      "IL -- Winner: CLINTON, No ties: True\n",
      "POINTS: 20 Trump: 78 Clinton: 101\n",
      "IN -- Winner: TRUMP, No ties: True\n",
      "POINTS: 11 Trump: 89 Clinton: 101\n",
      "IA -- Winner: TRUMP, No ties: True\n",
      "POINTS: 6 Trump: 95 Clinton: 101\n",
      "KS -- Winner: TRUMP, No ties: True\n",
      "POINTS: 6 Trump: 101 Clinton: 101\n",
      "KY -- Winner: TRUMP, No ties: True\n",
      "POINTS: 8 Trump: 109 Clinton: 101\n",
      "LA -- Winner: TRUMP, No ties: True\n",
      "POINTS: 8 Trump: 117 Clinton: 101\n",
      "ME -- Winner: CLINTON, No ties: True\n",
      "POINTS: 4 Trump: 117 Clinton: 105\n",
      "MD -- Winner: CLINTON, No ties: True\n",
      "POINTS: 10 Trump: 117 Clinton: 115\n",
      "MA -- Winner: CLINTON, No ties: True\n",
      "POINTS: 11 Trump: 117 Clinton: 126\n",
      "MI -- Winner: TRUMP, No ties: True\n",
      "POINTS: 16 Trump: 133 Clinton: 126\n",
      "MN -- Winner: CLINTON, No ties: True\n",
      "POINTS: 10 Trump: 133 Clinton: 136\n",
      "MS -- Winner: TRUMP, No ties: True\n",
      "POINTS: 6 Trump: 139 Clinton: 136\n",
      "MO -- Winner: TRUMP, No ties: True\n",
      "POINTS: 10 Trump: 149 Clinton: 136\n",
      "MT -- Winner: TRUMP, No ties: True\n",
      "POINTS: 3 Trump: 152 Clinton: 136\n",
      "NE -- Winner: TRUMP, No ties: True\n",
      "POINTS: 5 Trump: 157 Clinton: 136\n",
      "NV -- Winner: CLINTON, No ties: True\n",
      "POINTS: 6 Trump: 157 Clinton: 142\n",
      "NH -- Winner: CLINTON, No ties: True\n",
      "POINTS: 4 Trump: 157 Clinton: 146\n",
      "NJ -- Winner: CLINTON, No ties: True\n",
      "POINTS: 14 Trump: 157 Clinton: 160\n",
      "NM -- Winner: CLINTON, No ties: True\n",
      "POINTS: 5 Trump: 157 Clinton: 165\n",
      "NY -- Winner: CLINTON, No ties: True\n",
      "POINTS: 29 Trump: 157 Clinton: 194\n",
      "NC -- Winner: TRUMP, No ties: True\n",
      "POINTS: 15 Trump: 172 Clinton: 194\n",
      "ND -- Winner: TRUMP, No ties: True\n",
      "POINTS: 3 Trump: 175 Clinton: 194\n",
      "OH -- Winner: TRUMP, No ties: True\n",
      "POINTS: 18 Trump: 193 Clinton: 194\n",
      "OK -- Winner: TRUMP, No ties: True\n",
      "POINTS: 7 Trump: 200 Clinton: 194\n",
      "OR -- Winner: CLINTON, No ties: True\n",
      "POINTS: 7 Trump: 200 Clinton: 201\n",
      "PA -- Winner: TRUMP, No ties: True\n",
      "POINTS: 20 Trump: 220 Clinton: 201\n",
      "RI -- Winner: CLINTON, No ties: True\n",
      "POINTS: 4 Trump: 220 Clinton: 205\n",
      "SC -- Winner: TRUMP, No ties: True\n",
      "POINTS: 9 Trump: 229 Clinton: 205\n",
      "SD -- Winner: TRUMP, No ties: True\n",
      "POINTS: 3 Trump: 232 Clinton: 205\n",
      "TN -- Winner: TRUMP, No ties: True\n",
      "POINTS: 11 Trump: 243 Clinton: 205\n",
      "TX -- Winner: TRUMP, No ties: True\n",
      "POINTS: 38 Trump: 281 Clinton: 205\n",
      "UT -- Winner: TRUMP, No ties: True\n",
      "POINTS: 6 Trump: 287 Clinton: 205\n",
      "VT -- Winner: CLINTON, No ties: True\n",
      "POINTS: 3 Trump: 287 Clinton: 208\n",
      "VA -- Winner: CLINTON, No ties: True\n",
      "POINTS: 13 Trump: 287 Clinton: 221\n",
      "WA -- Winner: CLINTON, No ties: True\n",
      "POINTS: 12 Trump: 287 Clinton: 233\n",
      "WV -- Winner: TRUMP, No ties: True\n",
      "POINTS: 5 Trump: 292 Clinton: 233\n",
      "WI -- Winner: TRUMP, No ties: True\n",
      "POINTS: 10 Trump: 302 Clinton: 233\n",
      "WY -- Winner: TRUMP, No ties: True\n",
      "POINTS: 3 Trump: 305 Clinton: 233\n"
     ]
    }
   ],
   "source": [
    "for state, ballot in ballots.items():\n",
    "#     print(state)\n",
    "    result, no_ties = irv(ballot)\n",
    "    print(f\"{state} -- Winner: {result}, No ties: {no_ties}\")\n",
    "    if result == \"TRUMP\":\n",
    "        tev += state_electoral_votes[state]\n",
    "    else:\n",
    "        cev += state_electoral_votes[state]\n",
    "    print(f\"POINTS: {state_electoral_votes[state]} Trump: {tev} Clinton: {cev}\")"
   ]
  },
  {
   "cell_type": "code",
   "execution_count": 84,
   "id": "3509466d",
   "metadata": {},
   "outputs": [
    {
     "name": "stdout",
     "output_type": "stream",
     "text": [
      "0 0\n"
     ]
    }
   ],
   "source": [
    "print(tev, cev)   \n"
   ]
  },
  {
   "cell_type": "code",
   "execution_count": 86,
   "id": "72703f3b",
   "metadata": {},
   "outputs": [
    {
     "data": {
      "image/png": "[encoded data removed]",
      "text/plain": [
       "<Figure size 640x480 with 1 Axes>"
      ]
     },
     "metadata": {},
     "output_type": "display_data"
    }
   ],
   "source": [
    "import matplotlib.pyplot as plt\n",
    "import numpy as np\n",
    "\n",
    "# Given coordinates\n",
    "old_x, old_y = og_t, og_c\n",
    "new_x, new_y = tev, cev\n",
    "\n",
    "# Labels for the groups\n",
    "labels = ['Trump', 'Clinton']\n",
    "\n",
    "# Data to plot\n",
    "old_coords = [old_x, old_y]\n",
    "new_coords = [new_x, new_y]\n",
    "\n",
    "x = np.arange(len(labels))  # the label locations\n",
    "width = 0.2  # the width of the bars\n",
    "\n",
    "fig, ax = plt.subplots()\n",
    "rects1 = ax.bar(x - width/2, old_coords, width, label='Old')\n",
    "rects2 = ax.bar(x + width/2, new_coords, width, label='New')\n",
    "\n",
    "# Add some text for labels, title and custom x-axis tick labels, etc.\n",
    "ax.set_ylabel('Electoral Votes')\n",
    "ax.set_title('Comparison of Old and New Electoral Votes in 2016')\n",
    "ax.set_xticks(x)\n",
    "ax.set_xticklabels(labels)\n",
    "ax.legend()\n",
    "\n",
    "# Function to attach a text label above each bar in *rects*, displaying its height.\n",
    "def autolabel(rects):\n",
    "    for rect in rects:\n",
    "        height = rect.get_height()\n",
    "        ax.annotate('{}'.format(height),\n",
    "                    xy=(rect.get_x() + rect.get_width() / 2, height),\n",
    "                    xytext=(0, 3),  # 3 points vertical offset\n",
    "                    textcoords=\"offset points\",\n",
    "                    ha='center', va='bottom')\n",
    "\n",
    "autolabel(rects1)\n",
    "autolabel(rects2)\n",
    "\n",
    "fig.tight_layout()\n",
    "\n",
    "plt.show()\n"
   ]
  },
  {
   "cell_type": "code",
   "execution_count": null,
   "id": "39dfa0af",
   "metadata": {},
   "outputs": [],
   "source": []
  }
 ],
 "metadata": {
  "kernelspec": {
   "display_name": "Python 3 (ipykernel)",
   "language": "python",
   "name": "python3"
  },
  "language_info": {
   "codemirror_mode": {
    "name": "ipython",
    "version": 3
   },
   "file_extension": ".py",
   "mimetype": "text/x-python",
   "name": "python",
   "nbconvert_exporter": "python",
   "pygments_lexer": "ipython3",
   "version": "3.11.3"
  }
 },
 "nbformat": 4,
 "nbformat_minor": 5
}
