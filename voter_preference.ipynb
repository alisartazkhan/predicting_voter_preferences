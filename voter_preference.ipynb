{
 "cells": [
  {
   "cell_type": "code",
   "execution_count": 2,
   "id": "4752f900",
   "metadata": {
    "scrolled": true
   },
   "outputs": [],
   "source": [
    "import pandas as pd\n"
   ]
  },
  {
   "cell_type": "code",
   "execution_count": 4,
   "id": "71faf4f3",
   "metadata": {},
   "outputs": [
    {
     "name": "stdout",
     "output_type": "stream",
     "text": [
      "        V101  commonweight_vv  commonweight_vv_post  commonweight_vv_lgbt  \\\n",
      "0  222168628         1.344214              1.042267              1.195346   \n",
      "1  273691199         1.182352              1.280103              1.280565   \n",
      "2  284214415         0.217396                   NaN              0.248930   \n",
      "3  287557695         0.532320                   NaN              0.928750   \n",
      "4  290387662         1.261106              1.092519              1.161894   \n",
      "\n",
      "   commonweight  commonweight_post tookpost lookupzip     inputstate cdid113  \\\n",
      "0      0.944967           0.730450      Yes     03442  New Hampshire       2   \n",
      "1      0.767256           0.892838      Yes     70118      Louisiana       2   \n",
      "2      0.090604           0.000000       No     63851       Missouri       8   \n",
      "3      0.142583           0.000000       No     36703        Alabama       7   \n",
      "4      1.206498           1.019007      Yes     80526       Colorado       2   \n",
      "\n",
      "   ... CL_E2016PPEP CL_E2016PPVM CL_E2016PEP CL_E2016PVM  \\\n",
      "0  ...                                                     \n",
      "1  ...                                                     \n",
      "2  ...                                                     \n",
      "3  ...                                                     \n",
      "4  ...                                                     \n",
      "\n",
      "            starttime_pre             endtime_pre          starttime_post  \\\n",
      "0 2016-10-20 05:05:44.887 2016-10-20 05:36:38.850 2016-11-16 06:24:32.895   \n",
      "1 2016-10-23 14:54:58.548 2016-10-24 14:20:41.711 2016-11-30 14:02:55.143   \n",
      "2 2016-10-29 06:54:12.797 2016-10-29 07:24:44.759                     NaT   \n",
      "3 2016-10-27 11:06:21.322 2016-10-27 11:26:00.051                     NaT   \n",
      "4 2016-10-10 10:56:31.061 2016-10-10 11:14:12.215 2016-11-18 09:09:28.044   \n",
      "\n",
      "             endtime_post    dma                     dmaname  \n",
      "0 2016-11-16 06:40:18.810    NaN                              \n",
      "1 2016-11-30 14:09:26.931  622.0                 NEW ORLEANS  \n",
      "2                     NaT  632.0  PADUCAH-CAPE GIRARD-HARSBG  \n",
      "3                     NaT  698.0            MONTGOMERY-SELMA  \n",
      "4 2016-11-18 09:21:05.905  751.0                      DENVER  \n",
      "\n",
      "[5 rows x 563 columns]\n"
     ]
    }
   ],
   "source": [
    "data = pd.read_stata(\"CCES16_Common_OUTPUT_Feb2018_VV.dta\")\n",
    "# Display the first 5 rows\n",
    "print(data.head())"
   ]
  },
  {
   "cell_type": "code",
   "execution_count": null,
   "id": "c3537155",
   "metadata": {},
   "outputs": [],
   "source": []
  }
 ],
 "metadata": {
  "kernelspec": {
   "display_name": "Python 3 (ipykernel)",
   "language": "python",
   "name": "python3"
  },
  "language_info": {
   "codemirror_mode": {
    "name": "ipython",
    "version": 3
   },
   "file_extension": ".py",
   "mimetype": "text/x-python",
   "name": "python",
   "nbconvert_exporter": "python",
   "pygments_lexer": "ipython3",
   "version": "3.11.3"
  }
 },
 "nbformat": 4,
 "nbformat_minor": 5
}
