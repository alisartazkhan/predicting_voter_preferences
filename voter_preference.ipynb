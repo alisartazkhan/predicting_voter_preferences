{
 "cells": [
  {
   "cell_type": "code",
   "execution_count": 3,
   "id": "4752f900",
   "metadata": {
    "scrolled": true
   },
   "outputs": [],
   "source": [
    "import pandas as pd\n"
   ]
  },
  {
   "cell_type": "code",
   "execution_count": 12,
   "id": "71faf4f3",
   "metadata": {
    "scrolled": true
   },
   "outputs": [
    {
     "name": "stdout",
     "output_type": "stream",
     "text": [
      "563\n",
      "['V101', 'commonweight_vv', 'commonweight_vv_post', 'commonweight_vv_lgbt', 'commonweight', 'commonweight_post', 'tookpost', 'lookupzip', 'inputstate', 'cdid113', 'cdid115', 'countyfips', 'countyname', 'CurrentGovName', 'CurrentGovParty', 'CurrentHouseGender', 'CurrentHouseName', 'CurrentHouseParty', 'CurrentSen1Gender', 'CurrentSen1Name', 'CurrentSen1Party', 'CurrentSen2Gender', 'CurrentSen2Name', 'CurrentSen2Party', 'GovCand1Incumbent', 'GovCand1Name', 'GovCand1Party', 'GovCand2Incumbent', 'GovCand2Name', 'GovCand2Party', 'GovCand3Name', 'GovCand3Party', 'HouseCand1Incumbent', 'HouseCand1Name', 'HouseCand1Party', 'HouseCand2Incumbent', 'HouseCand2Name', 'HouseCand2Party', 'HouseCand3Name', 'HouseCand3Party', 'HouseCand4Name', 'HouseCand4Party', 'HouseCand5Name', 'HouseCand5Party', 'HouseCand6Name', 'HouseCand6Party', 'HouseCand7Name', 'HouseCand7Party', 'HouseCand8Name', 'HouseCand8Party', 'HouseCand9Name', 'HouseCand9Party', 'HouseCand10Name', 'HouseCand10Party', 'HouseCand11Name', 'HouseCand11Party', 'LegName', 'LowerChamberName', 'SenCand1Incumbent', 'SenCand1Name', 'SenCand1Party', 'SenCand2Incumbent', 'SenCand2Name', 'SenCand2Party', 'SenCand3Name', 'SenCand3Party', 'SenCand4Name', 'SenCand4Party', 'CCEStake', 'comptype', 'add_confirm', 'votereg', 'votereg_f', 'regzip', 'inputzip', 'birthyr', 'gender', 'educ', 'race', 'race_other', 'hispanic', 'marstat', 'multrace_1', 'multrace_2', 'multrace_3', 'multrace_4', 'multrace_5', 'multrace_8', 'multrace_97', 'multrace_98', 'multrace_99', 'Hispanic_origin_1', 'Hispanic_origin_2', 'Hispanic_origin_3', 'Hispanic_origin_4', 'Hispanic_origin_5', 'Hispanic_origin_6', 'Hispanic_origin_7', 'Hispanic_origin_8', 'Hispanic_origin_9', 'Hispanic_origin_10', 'Hispanic_origin_11', 'Hispanic_origin_12', 'Hispanic_origin_t', 'Asian_origin_1', 'Asian_origin_2', 'Asian_origin_3', 'Asian_origin_4', 'Asian_origin_5', 'Asian_origin_6', 'Asian_origin_7', 'Asian_origin_8', 'Asian_origin_9', 'Asian_origin_10', 'Asian_origin_11', 'Asian_origin_12', 'Asian_origin_13', 'Asian_origin_14', 'Asian_origin_15', 'Asian_origin_t', 'ccesmodule', 'CC16_300_1', 'CC16_300_2', 'CC16_300_3', 'CC16_300_4', 'CC16_300_5', 'CC16_300_6', 'CC16_300b', 'CC16_300c', 'CC16_300d_1', 'CC16_300d_2', 'CC16_300d_3', 'CC16_300d_4', 'CC16_300d_5', 'CC16_301a', 'CC16_301b', 'CC16_301c', 'CC16_301d', 'CC16_301e', 'CC16_301f', 'CC16_301g', 'CC16_301h', 'CC16_301i', 'CC16_301j', 'CC16_301k', 'CC16_301l', 'CC16_301m', 'CC16_301n', 'CC16_301o', 'CC16_302', 'CC16_303', 'CC16_304', 'CC16_305_1', 'CC16_305_2', 'CC16_305_3', 'CC16_305_4', 'CC16_305_5', 'CC16_305_6', 'CC16_305_7', 'CC16_305_8', 'CC16_305_9', 'CC16_305_10', 'CC16_305_11', 'CC16_307', 'CC16_312_1', 'CC16_312_2', 'CC16_312_3', 'CC16_312_4', 'CC16_312_5', 'CC16_312_6', 'CC16_312_7', 'CC16_321a', 'CC16_321b', 'CC16_321c', 'CC16_321d', 'CC16_322a', 'CC16_322b', 'CC16_322c', 'CC16_322d', 'CC16_320a', 'CC16_320b', 'CC16_320c', 'CC16_320d', 'CC16_320e', 'CC16_320f', 'CC16_320g', 'CC16_320h', 'CC16_316', 'CC16_326', 'CC16_326_t', 'CC16_327', 'CC16_328', 'CC16_330a', 'CC16_330b', 'CC16_330d', 'CC16_330e', 'CC16_331_1', 'CC16_331_2', 'CC16_331_3', 'CC16_331_4', 'CC16_331_5', 'CC16_331_6', 'CC16_331_7', 'CC16_331_8', 'CC16_331_9', 'CC16_332a', 'CC16_332b', 'CC16_332c', 'CC16_332d', 'CC16_332e', 'CC16_332f', 'CC16_333a', 'CC16_333b', 'CC16_333c', 'CC16_333d', 'CC16_334a', 'CC16_334b', 'CC16_334c', 'CC16_334d', 'CC16_335', 'CC16_337_1', 'CC16_337_2', 'CC16_337_3', 'CC16_340a', 'CC16_340b', 'CC16_340c', 'CC16_340d', 'CC16_340e', 'CC16_340f', 'CC16_340g', 'CC16_340h', 'CC16_340i', 'CC16_340j', 'CC16_340k', 'CC16_340l', 'CC16_340m', 'CC16_340n', 'CC16_340o', 'CC16_340p', 'CC16_350', 'CC16_351A', 'CC16_351B', 'CC16_351C', 'CC16_351D', 'CC16_351E', 'CC16_351F', 'CC16_351G', 'CC16_351H', 'CC16_351I', 'CC16_351K', 'CC16_360', 'CC16_361', 'CC16_364', 'CC16_364b', 'CC16_364b_t', 'CC16_364c', 'CC16_364c_t', 'CC16_365', 'CC16_365_t', 'CC16_365a', 'CC16_365a_t', 'CC16_366', 'CC16_366_t', 'CC16_366a', 'CC16_366a_t', 'CC16_367', 'CC16_367_t', 'CC16_367a', 'CC16_367a_t', 'CC16_365x', 'CC16_365x_t', 'CC16_366x', 'CC16_366x_t', 'CC16_367x', 'CC16_367x_t', 'employ', 'employ_t', 'hadjob', 'whatkindofwork', 'jobactivities', 'industryclass', 'ownhome', 'ownhome_t', 'child18', 'child18num', 'pid3', 'pid3_t', 'pid7', 'immstat', 'pew_bornagain', 'pew_religimp', 'pew_churatd', 'pew_prayer', 'religpew', 'religpew_t', 'religpew_protestant', 'religpew_protestant_t', 'religpew_baptist', 'religpew_baptist_t', 'religpew_methodist', 'religpew_methodist_t', 'religpew_nondenom', 'religpew_nondenom_t', 'religpew_lutheran', 'religpew_lutheran_t', 'religpew_presby', 'religpew_presby_t', 'religpew_pentecost', 'religpew_pentecost_t', 'religpew_episcop', 'religpew_episcop_t', 'religpew_christian', 'religpew_christian_t', 'religpew_congreg', 'religpew_congreg_t', 'religpew_holiness', 'religpew_holiness_t', 'religpew_reformed', 'religpew_reformed_t', 'religpew_advent', 'religpew_advent_t', 'religpew_catholic', 'religpew_catholic_t', 'religpew_mormon', 'religpew_mormon_t', 'religpew_orthodox', 'religpew_orthodox_t', 'religpew_jewish', 'religpew_jewish_t', 'religpew_muslim', 'religpew_muslim_t', 'religpew_buddhist', 'religpew_buddhist_t', 'religpew_hindu', 'religpew_hindu_t', 'ideo5', 'milstat_1', 'milstat_2', 'milstat_3', 'milstat_4', 'milstat_5', 'citylength_1', 'citylength_2', 'union', 'unionhh', 'newsint', 'faminc', 'investor', 'sexuality', 'trans', 'healthins_1', 'healthins_2', 'healthins_3', 'healthins_4', 'healthins_5', 'healthins_6', 'healthins2', 'phone', 'internethome', 'internetwork', 'lookupzip_post', 'cdid113_post', 'cdid115_post', 'inputstate_post', 'regzip_confirm_post', 'reszip_confirm_post', 'inputzip_post', 'votereg_post', 'votereg_f_post', 'regzip_post', 'countyfips_post', 'countyname_post', 'AskParty_post', 'CurrentGovName_post', 'CurrentGovParty_post', 'CurrentHouseGender_post', 'CurrentHouseName_post', 'CurrentHouseParty_post', 'CurrentSen1Gender_post', 'CurrentSen1Name_post', 'CurrentSen1Party_post', 'CurrentSen2Gender_post', 'CurrentSen2Name_post', 'CurrentSen2Party_post', 'GovCand1Incumbent_post', 'GovCand1Name_post', 'GovCand1Party_post', 'GovCand2Incumbent_post', 'GovCand2Name_post', 'GovCand2Party_post', 'GovCand3Name_post', 'GovCand3Party_post', 'HouseCand1Incumbent_post', 'HouseCand1Name_post', 'HouseCand1Party_post', 'HouseCand2Incumbent_post', 'HouseCand2Name_post', 'HouseCand2Party_post', 'HouseCand3Name_post', 'HouseCand3Party_post', 'HouseCand4Name_post', 'HouseCand4Party_post', 'HouseCand5Name_post', 'HouseCand5Party_post', 'HouseCand6Name_post', 'HouseCand6Party_post', 'HouseCand7Name_post', 'HouseCand7Party_post', 'HouseCand8Name_post', 'HouseCand8Party_post', 'HouseCand9Name_post', 'HouseCand9Party_post', 'HouseCand10Name_post', 'HouseCand10Party_post', 'HouseCand11Name_post', 'HouseCand11Party_post', 'LegName_post', 'LowerChamberName_post', 'SenCand1Incumbent_post', 'SenCand1Name_post', 'SenCand1Party_post', 'SenCand2Incumbent_post', 'SenCand2Name_post', 'SenCand2Party_post', 'SenCand3Name_post', 'SenCand3Party_post', 'SenCand4Name_post', 'SenCand4Party_post', 'CC16_401', 'CC16_402a', 'CC16_402a_t', 'CC16_402b', 'CC16_402b_t', 'CC16_403', 'CC16_403b', 'CC16_404', 'CC16_404_t', 'CC16_405', 'CC16_406a', 'CC16_406b_1', 'CC16_406b_2', 'CC16_406b_3', 'CC16_406b_4', 'CC16_406b_t', 'CC16_406c', 'CC16_407a', 'CC16_407b', 'CC16_410a', 'CC16_410a_t', 'CC16_410b', 'CC16_410b_t', 'CC16_411', 'CC16_411_t', 'CC16_412', 'CC16_412_t', 'CC16_410a_nv', 'CC16_410a_nv_t', 'CC16_410b_nv', 'CC16_410b_nv_t', 'CC16_411_nv', 'CC16_411_nv_t', 'CC16_412_nv', 'CC16_412_nv_t', 'CC16_413_grid', 'CC16_413a', 'CC16_413b', 'CC16_413c', 'CC16_413d', 'CC16_414_1', 'CC16_414_2', 'CC16_414_3', 'CC16_414_4', 'CC16_414_5', 'CC16_414_6', 'CC16_414_7', 'CC16_415r', 'CC16_416r', 'CC16_417a_1', 'CC16_417a_2', 'CC16_417a_3', 'CC16_417a_4', 'CC16_417a_5', 'CC16_417a_6', 'CC16_417bx_1', 'CC16_417bx_2', 'CC16_417bx_3', 'CC16_417bx_4', 'CC16_417bx_5', 'CC16_417bx_6', 'CC16_417bx_7', 'CC16_417bx_8', 'CC16_417bx_9', 'CC16_417bx_10', 'CC16_417bx_t1', 'CC16_417bx_t2', 'CC16_417c', 'CC16_417d_1', 'CC16_417d_2', 'CC16_417e_1', 'CC16_417e_2', 'CC16_417e_3', 'CC16_417e_4', 'CC16_417e_5', 'CC16_425a', 'CC416_25b_1', 'CC416_25b_2', 'CC416_25b_3', 'CC416_25b_4', 'CC16_418a', 'CC16_418bx_1', 'CC16_418bx_2', 'CC16_418bx_3', 'CC16_418bx_4', 'CC16_418bx_5', 'CC16_418bx_6', 'CC16_418bx_7', 'CC16_418bx_8', 'CC16_418bx_9', 'CC16_418bx_10', 'CC16_418bx_11', 'CC16_418b_t', 'CC16_421a', 'CC16_421_t', 'CC16_421_dem', 'CC16_421_rep', 'CC16_421b', 'CC16_422c', 'CC16_422d', 'CC16_422e', 'CC16_422f', 'CC16_423a', 'CC16_423b', 'CC16_423c', 'CC16_423a_other', 'CC16_423b_other', 'CC16_423c_other', 'CC16_426_1', 'CC16_426_2', 'CC16_426_3', 'CC16_426_4', 'CC16_426_5', 'CC16_427_a', 'CC16_427_b', 'CC16_427_c', 'CC16_427_d', 'CC16_427_e', 'CC16_427_f', 'edloan', 'CL_matched', 'CL_voterstatus', 'CL_partyaffiliation', 'CL_state', 'CL_E2016GVM', 'CL_E2016PPEP', 'CL_E2016PPVM', 'CL_E2016PEP', 'CL_E2016PVM', 'starttime_pre', 'endtime_pre', 'starttime_post', 'endtime_post', 'dma', 'dmaname']\n"
     ]
    }
   ],
   "source": [
    "data = pd.read_stata(\"../CCES16_Common_OUTPUT_Feb2018_VV.dta\")\n",
    "# Display the first 5 rows\n",
    "print(len(list(data.columns)))\n",
    "print(list(data.columns))\n"
   ]
  },
  {
   "cell_type": "code",
   "execution_count": 8,
   "id": "c3537155",
   "metadata": {},
   "outputs": [
    {
     "name": "stdout",
     "output_type": "stream",
     "text": [
      "   1     FEC ID    STATE STATE ABBREVIATION GENERAL ELECTION DATE FIRST NAME  \\\n",
      "0  2  P80001571  Alabama                 AL            2016-11-08  Donald J.   \n",
      "1  3  P00003392  Alabama                 AL            2016-11-08    Hillary   \n",
      "2  4  P20002671  Alabama                 AL            2016-11-08       Gary   \n",
      "3  5        NaN  Alabama                 AL            2016-11-08        NaN   \n",
      "4  6  P20003984  Alabama                 AL            2016-11-08       Jill   \n",
      "\n",
      "   LAST NAME LAST NAME,  FIRST TOTAL VOTES PARTY  GENERAL RESULTS  \\\n",
      "0      Trump  Trump, Donald J.         NaN   REP        1318255.0   \n",
      "1    Clinton  Clinton, Hillary         NaN   DEM         729547.0   \n",
      "2    Johnson     Johnson, Gary         NaN   IND          44467.0   \n",
      "3  Scattered       Scattered,          NaN     W          21712.0   \n",
      "4      Stein       Stein, Jill         NaN   IND           9391.0   \n",
      "\n",
      "   TOTAL VOTES #  GENERAL % WINNER INDICATOR  \n",
      "0            NaN   0.620831                W  \n",
      "1            NaN   0.343579              NaN  \n",
      "2            NaN   0.020942              NaN  \n",
      "3            NaN   0.010225              NaN  \n",
      "4            NaN   0.004423              NaN  \n"
     ]
    }
   ],
   "source": [
    "# Data Loading & Preprocessing\n",
    "# - Load official 2016 election results data (state vote totals by candidate)\n",
    "# - Load CCES survey data (multiple files for pre/post election waves)\n",
    "# - Merge CCES data, filter for relevant respondents\n",
    "# - Extract features/targets for modeling (survey questions, vote choices etc.)\n",
    "# - Split data into train/test sets\n",
    "\n",
    "\n",
    "# # Load official 2016 election results data\n",
    "# election_results = pd.read_csv('election_results.csv')\n",
    "xls_data = pd.read_excel('../federalelections2016.xlsx', sheet_name=\"2016 Pres General Results\")\n",
    "print(xls_data.head())\n",
    "# Access individual sheets using keys (sheet names)\n",
    "# for sheet_name, sheet_data in xls_data.items():\n",
    "#     print(f\"Sheet Name: {sheet_name}\")\n",
    "#     print(sheet_data.head())  # Display the first few rows of each sheet\n",
    "#     print(\"\\n\")\n",
    "\n",
    "\n",
    "# # Load CCES survey data (assuming multiple files for pre/post election waves)\n",
    "# cces_wave1 = pd.read_csv('cces_wave1.csv')\n",
    "# cces_wave2 = pd.read_csv('cces_wave2.csv')\n",
    "cces_wave0 = pd.read_stata(\"../CCES16_Common_OUTPUT_Feb2018_VV.dta\")\n",
    "# # ... load other waves as needed\n",
    "\n",
    "# # Merge CCES data\n",
    "# cces_data = pd.concat([cces_wave1, cces_wave2], axis=0, ignore_index=True)\n",
    "\n",
    "# # Filter for relevant respondents (adjust the condition based on your requirements)\n",
    "# relevant_respondents = cces_data[cces_data['relevant_column'] == 'desired_value']\n",
    "\n",
    "# # Extract features/targets for modeling\n",
    "# # For example, select survey questions and vote choices as features/targets\n",
    "# features = relevant_respondents[['question1', 'question2', '...']]\n",
    "# targets = relevant_respondents['vote_choice_column']\n",
    "\n",
    "# # Split data into train/test sets\n",
    "# from sklearn.model_selection import train_test_split\n",
    "\n",
    "# # Adjust the test_size and random_state as needed\n",
    "# X_train, X_test, y_train, y_test = train_test_split(features, targets, test_size=0.2, random_state=42)\n",
    "\n",
    "# # Now you can use X_train, X_test, y_train, y_test for your modeling purposes\n"
   ]
  },
  {
   "cell_type": "code",
   "execution_count": null,
   "id": "a5f3db79",
   "metadata": {},
   "outputs": [],
   "source": []
  }
 ],
 "metadata": {
  "kernelspec": {
   "display_name": "Python 3 (ipykernel)",
   "language": "python",
   "name": "python3"
  },
  "language_info": {
   "codemirror_mode": {
    "name": "ipython",
    "version": 3
   },
   "file_extension": ".py",
   "mimetype": "text/x-python",
   "name": "python",
   "nbconvert_exporter": "python",
   "pygments_lexer": "ipython3",
   "version": "3.11.3"
  }
 },
 "nbformat": 4,
 "nbformat_minor": 5
}
